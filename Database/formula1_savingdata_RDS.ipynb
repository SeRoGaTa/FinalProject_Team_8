{
  "nbformat": 4,
  "nbformat_minor": 0,
  "metadata": {
    "colab": {
      "name": "formula1_savingdata_RDS.ipynb",
      "provenance": [],
      "collapsed_sections": []
    },
    "kernelspec": {
      "name": "python3",
      "display_name": "Python 3"
    },
    "language_info": {
      "name": "python"
    }
  },
  "cells": [
    {
      "cell_type": "code",
      "execution_count": 1,
      "metadata": {
        "colab": {
          "base_uri": "https://localhost:8080/"
        },
        "id": "Og_F0tGAqSJh",
        "outputId": "e2d10552-7d9e-4bf2-9e84-eadb1ab66ddf"
      },
      "outputs": [
        {
          "output_type": "stream",
          "name": "stdout",
          "text": [
            "Get:1 https://cloud.r-project.org/bin/linux/ubuntu bionic-cran40/ InRelease [3,626 B]\n",
            "Ign:2 https://developer.download.nvidia.com/compute/cuda/repos/ubuntu1804/x86_64  InRelease\n",
            "Ign:3 https://developer.download.nvidia.com/compute/machine-learning/repos/ubuntu1804/x86_64  InRelease\n",
            "Hit:4 http://archive.ubuntu.com/ubuntu bionic InRelease\n",
            "Get:5 http://ppa.launchpad.net/c2d4u.team/c2d4u4.0+/ubuntu bionic InRelease [15.9 kB]\n",
            "Get:6 https://developer.download.nvidia.com/compute/cuda/repos/ubuntu1804/x86_64  Release [696 B]\n",
            "Hit:7 https://developer.download.nvidia.com/compute/machine-learning/repos/ubuntu1804/x86_64  Release\n",
            "Get:8 https://developer.download.nvidia.com/compute/cuda/repos/ubuntu1804/x86_64  Release.gpg [836 B]\n",
            "Get:9 http://security.ubuntu.com/ubuntu bionic-security InRelease [88.7 kB]\n",
            "Get:10 http://archive.ubuntu.com/ubuntu bionic-updates InRelease [88.7 kB]\n",
            "Hit:11 http://ppa.launchpad.net/cran/libgit2/ubuntu bionic InRelease\n",
            "Get:13 http://archive.ubuntu.com/ubuntu bionic-backports InRelease [74.6 kB]\n",
            "Hit:14 http://ppa.launchpad.net/deadsnakes/ppa/ubuntu bionic InRelease\n",
            "Get:15 https://developer.download.nvidia.com/compute/cuda/repos/ubuntu1804/x86_64  Packages [930 kB]\n",
            "Get:16 http://ppa.launchpad.net/graphics-drivers/ppa/ubuntu bionic InRelease [21.3 kB]\n",
            "Get:17 http://ppa.launchpad.net/c2d4u.team/c2d4u4.0+/ubuntu bionic/main Sources [1,827 kB]\n",
            "Get:18 http://security.ubuntu.com/ubuntu bionic-security/main amd64 Packages [2,596 kB]\n",
            "Get:19 http://security.ubuntu.com/ubuntu bionic-security/universe amd64 Packages [1,474 kB]\n",
            "Get:20 http://archive.ubuntu.com/ubuntu bionic-updates/restricted amd64 Packages [840 kB]\n",
            "Get:21 http://security.ubuntu.com/ubuntu bionic-security/restricted amd64 Packages [806 kB]\n",
            "Get:22 http://ppa.launchpad.net/c2d4u.team/c2d4u4.0+/ubuntu bionic/main amd64 Packages [937 kB]\n",
            "Get:23 http://archive.ubuntu.com/ubuntu bionic-updates/universe amd64 Packages [2,252 kB]\n",
            "Get:24 http://archive.ubuntu.com/ubuntu bionic-updates/main amd64 Packages [3,035 kB]\n",
            "Get:25 http://ppa.launchpad.net/graphics-drivers/ppa/ubuntu bionic/main amd64 Packages [42.8 kB]\n",
            "Fetched 15.0 MB in 8s (1,978 kB/s)\n",
            "Reading package lists... Done\n"
          ]
        }
      ],
      "source": [
        "import os\n",
        "# Find the latest version of spark 3.0  from http://www.apache.org/dist/spark/ and enter as the spark version\n",
        "# For example:\n",
        "# spark_version = 'spark-3.0.3'\n",
        "spark_version = 'spark-3.0.3'\n",
        "os.environ['SPARK_VERSION']=spark_version\n",
        "\n",
        "# Install Spark and Java\n",
        "!apt-get update\n",
        "!apt-get install openjdk-11-jdk-headless -qq > /dev/null\n",
        "!wget -q http://www.apache.org/dist/spark/$SPARK_VERSION/$SPARK_VERSION-bin-hadoop2.7.tgz\n",
        "!tar xf $SPARK_VERSION-bin-hadoop2.7.tgz\n",
        "!pip install -q findspark\n",
        "\n",
        "# Set Environment Variables\n",
        "import os\n",
        "os.environ[\"JAVA_HOME\"] = \"/usr/lib/jvm/java-11-openjdk-amd64\"\n",
        "os.environ[\"SPARK_HOME\"] = f\"/content/{spark_version}-bin-hadoop2.7\"\n",
        "\n",
        "# Start a SparkSession\n",
        "import findspark\n",
        "findspark.init()"
      ]
    },
    {
      "cell_type": "code",
      "source": [
        "!wget https://jdbc.postgresql.org/download/postgresql-42.2.16.jar"
      ],
      "metadata": {
        "colab": {
          "base_uri": "https://localhost:8080/"
        },
        "id": "4iE5lr6rql_B",
        "outputId": "304f1051-350f-4405-9316-78d082eaeef8"
      },
      "execution_count": 2,
      "outputs": [
        {
          "output_type": "stream",
          "name": "stdout",
          "text": [
            "--2022-02-26 00:23:19--  https://jdbc.postgresql.org/download/postgresql-42.2.16.jar\n",
            "Resolving jdbc.postgresql.org (jdbc.postgresql.org)... 72.32.157.228, 2001:4800:3e1:1::228\n",
            "Connecting to jdbc.postgresql.org (jdbc.postgresql.org)|72.32.157.228|:443... connected.\n",
            "HTTP request sent, awaiting response... 200 OK\n",
            "Length: 1002883 (979K) [application/java-archive]\n",
            "Saving to: ‘postgresql-42.2.16.jar’\n",
            "\n",
            "postgresql-42.2.16. 100%[===================>] 979.38K  1.22MB/s    in 0.8s    \n",
            "\n",
            "2022-02-26 00:23:21 (1.22 MB/s) - ‘postgresql-42.2.16.jar’ saved [1002883/1002883]\n",
            "\n"
          ]
        }
      ]
    },
    {
      "cell_type": "code",
      "source": [
        "from pyspark.sql import SparkSession\n",
        "spark = SparkSession.builder.appName(\"formula1etl\").config(\"spark.driver.extraClassPath\",\"/content/postgresql-42.2.16.jar\").getOrCreate()"
      ],
      "metadata": {
        "id": "jO08T8PIqVmB"
      },
      "execution_count": 3,
      "outputs": []
    },
    {
      "cell_type": "code",
      "source": [
        "# Read in data from S3 Buckets\n",
        "from pyspark import SparkFiles\n",
        "url = \"https://formula1-team8-bucket.s3.amazonaws.com/circuits.csv\"\n",
        "spark.sparkContext.addFile(url)\n",
        "circuits_df = spark.read.csv(SparkFiles.get(\"circuits.csv\"), sep=\",\", header=True)"
      ],
      "metadata": {
        "id": "8qZk7E7EqYAa"
      },
      "execution_count": 4,
      "outputs": []
    },
    {
      "cell_type": "code",
      "source": [
        "# Show DataFrame\n",
        "circuits_df.show()"
      ],
      "metadata": {
        "id": "bx-XwQMkrF-6"
      },
      "execution_count": null,
      "outputs": []
    },
    {
      "cell_type": "code",
      "source": [
        "url =\"https://formula1-team8-bucket.s3.amazonaws.com/constructor_results.csv\"\n",
        "spark.sparkContext.addFile(url)\n",
        "constructor_results_df = spark.read.csv(SparkFiles.get(\"constructor_results.csv\"), sep=\",\", header=True, inferSchema=True)\n",
        "\n",
        "# Show DataFrame\n",
        "constructor_results_df.show()"
      ],
      "metadata": {
        "id": "BSniC4eOrNnn"
      },
      "execution_count": null,
      "outputs": []
    },
    {
      "cell_type": "code",
      "source": [
        "url =\"https://formula1-team8-bucket.s3.amazonaws.com/constructor_standings.csv\"\n",
        "spark.sparkContext.addFile(url)\n",
        "constructor_standings_df = spark.read.csv(SparkFiles.get(\"constructor_standings.csv\"), sep=\",\", header=True, inferSchema=True)\n",
        "\n",
        "# Show DataFrame\n",
        "constructor_standings_df.show()"
      ],
      "metadata": {
        "id": "nJ43I5zDa9Oe"
      },
      "execution_count": null,
      "outputs": []
    },
    {
      "cell_type": "code",
      "source": [
        "url =\"https://formula1-team8-bucket.s3.amazonaws.com/constructors.csv\"\n",
        "spark.sparkContext.addFile(url)\n",
        "constructors_df = spark.read.csv(SparkFiles.get(\"constructors.csv\"), sep=\",\", header=True, inferSchema=True)\n",
        "\n",
        "# Show DataFrame\n",
        "constructors_df.show()"
      ],
      "metadata": {
        "id": "SZYKmfCmbJpe"
      },
      "execution_count": null,
      "outputs": []
    },
    {
      "cell_type": "code",
      "source": [
        "url =\"https://formula1-team8-bucket.s3.amazonaws.com/driver_standings.csv\"\n",
        "spark.sparkContext.addFile(url)\n",
        "driver_standings_df = spark.read.csv(SparkFiles.get(\"driver_standings.csv\"), sep=\",\", header=True, inferSchema=True)\n",
        "\n",
        "# Show DataFrame\n",
        "driver_standings_df.show()"
      ],
      "metadata": {
        "id": "EPuGihWdbVae"
      },
      "execution_count": null,
      "outputs": []
    },
    {
      "cell_type": "code",
      "source": [
        "url =\"https://formula1-team8-bucket.s3.amazonaws.com/drivers.csv\"\n",
        "spark.sparkContext.addFile(url)\n",
        "drivers_df = spark.read.csv(SparkFiles.get(\"drivers.csv\"), sep=\",\", header=True, inferSchema=True)\n",
        "\n",
        "# Show DataFrame\n",
        "drivers_df.show()"
      ],
      "metadata": {
        "id": "PebKLdDCbdqH"
      },
      "execution_count": null,
      "outputs": []
    },
    {
      "cell_type": "code",
      "source": [
        "url =\"https://formula1-team8-bucket.s3.amazonaws.com/lap_times.csv\"\n",
        "spark.sparkContext.addFile(url)\n",
        "lap_times_df = spark.read.csv(SparkFiles.get(\"lap_times.csv\"), sep=\",\", header=True, inferSchema=True)\n",
        "\n",
        "# Show DataFrame\n",
        "lap_times_df.show()"
      ],
      "metadata": {
        "id": "XeoBmYlGblw3"
      },
      "execution_count": null,
      "outputs": []
    },
    {
      "cell_type": "code",
      "source": [
        "url =\"https://formula1-team8-bucket.s3.amazonaws.com/pit_stops.csv\"\n",
        "spark.sparkContext.addFile(url)\n",
        "pit_stops_df = spark.read.csv(SparkFiles.get(\"pit_stops.csv\"), sep=\",\", header=True, inferSchema=True)\n",
        "\n",
        "# Show DataFrame\n",
        "pit_stops_df.show()"
      ],
      "metadata": {
        "id": "3Gne1G0rbxJP"
      },
      "execution_count": null,
      "outputs": []
    },
    {
      "cell_type": "code",
      "source": [
        "url =\"https://formula1-team8-bucket.s3.amazonaws.com/qualifying.csv\"\n",
        "spark.sparkContext.addFile(url)\n",
        "qualifying_df = spark.read.csv(SparkFiles.get(\"qualifying.csv\"), sep=\",\", header=True, inferSchema=True)\n",
        "\n",
        "# Show DataFrame\n",
        "qualifying_df.show()"
      ],
      "metadata": {
        "id": "qRUUodg9b4ct"
      },
      "execution_count": null,
      "outputs": []
    },
    {
      "cell_type": "code",
      "source": [
        "url =\"https://formula1-team8-bucket.s3.amazonaws.com/races.csv\"\n",
        "spark.sparkContext.addFile(url)\n",
        "races_df = spark.read.csv(SparkFiles.get(\"races.csv\"), sep=\",\", header=True, inferSchema=True)\n",
        "\n",
        "# Show DataFrame\n",
        "races_df.show()"
      ],
      "metadata": {
        "id": "MSndCRfTb_yO"
      },
      "execution_count": null,
      "outputs": []
    },
    {
      "cell_type": "code",
      "source": [
        "url =\"https://formula1-team8-bucket.s3.amazonaws.com/results.csv\"\n",
        "spark.sparkContext.addFile(url)\n",
        "results_df = spark.read.csv(SparkFiles.get(\"results.csv\"), sep=\",\", header=True, inferSchema=True)\n",
        "\n",
        "# Show DataFrame\n",
        "results_df.show()"
      ],
      "metadata": {
        "id": "N8730STfcIl9"
      },
      "execution_count": null,
      "outputs": []
    },
    {
      "cell_type": "code",
      "source": [
        "url =\"https://formula1-team8-bucket.s3.amazonaws.com/seasons.csv\"\n",
        "spark.sparkContext.addFile(url)\n",
        "seasons_df = spark.read.csv(SparkFiles.get(\"seasons.csv\"), sep=\",\", header=True, inferSchema=True)\n",
        "\n",
        "# Show DataFrame\n",
        "seasons_df.show()"
      ],
      "metadata": {
        "id": "uYl4ONbncQ4u"
      },
      "execution_count": null,
      "outputs": []
    },
    {
      "cell_type": "code",
      "source": [
        "url =\"https://formula1-team8-bucket.s3.amazonaws.com/status.csv\"\n",
        "spark.sparkContext.addFile(url)\n",
        "status_df = spark.read.csv(SparkFiles.get(\"status.csv\"), sep=\",\", header=True, inferSchema=True)\n",
        "\n",
        "# Show DataFrame\n",
        "status_df.show()"
      ],
      "metadata": {
        "id": "eIotI1BocaDn"
      },
      "execution_count": null,
      "outputs": []
    },
    {
      "cell_type": "code",
      "source": [
        "# Store environmental variable\n",
        "from getpass import getpass\n",
        "# password = getpass('Enter database password')\n",
        "# Configure settings for RDS\n",
        "mode = \"append\"\n",
        "jdbc_url=\"jdbc:postgresql://formula1-team8.cwip4lqac6n6.us-east-1.rds.amazonaws.com:5432/postgres\"\n",
        "config = {\"user\":\"postgres\",\n",
        "          \"password\": \"postgresteam8\",\n",
        "          \"driver\":\"org.postgresql.Driver\"}"
      ],
      "metadata": {
        "id": "ycMuvpkftGrm"
      },
      "execution_count": 26,
      "outputs": []
    },
    {
      "cell_type": "code",
      "source": [
        "circuits_df = circuits_df.withColumn(\"circuitId\",circuits_df.circuitId.cast(\"int\"))\n",
        "circuits_df = circuits_df.withColumn(\"lat\",circuits_df.lat.cast(\"float\"))\n",
        "circuits_df = circuits_df.withColumn(\"lng\",circuits_df.lng.cast(\"float\"))\n",
        "circuits_df = circuits_df.withColumn(\"alt\",circuits_df.alt.cast(\"int\"))\n",
        "drivers_df = drivers_df.withColumn(\"number\",drivers_df.number.cast(\"int\"))\n",
        "drivers_df = drivers_df.withColumn(\"dob\",drivers_df.dob.cast(\"date\"))\n",
        "races_df = races_df.withColumn(\"date\",races_df.date.cast(\"date\"))\n",
        "races_df = races_df.withColumn(\"time\",races_df.time.cast(\"Timestamp\"))\n",
        "pit_stops_df = pit_stops_df.withColumn(\"time\",pit_stops_df.time.cast(\"Timestamp\"))\n",
        "results_df = results_df.withColumn(\"number\",results_df.number.cast(\"int\"))\n",
        "results_df = results_df.withColumn(\"position\",results_df.position.cast(\"int\"))\n",
        "results_df = results_df.withColumn(\"milliseconds\",results_df.milliseconds.cast(\"int\"))\n",
        "results_df = results_df.withColumn(\"fastestLap\",results_df.fastestLap.cast(\"int\"))\n",
        "results_df = results_df.withColumn(\"rank\",results_df.rank.cast(\"int\"))"
      ],
      "metadata": {
        "id": "zGvtux3bgLdR"
      },
      "execution_count": 72,
      "outputs": []
    },
    {
      "cell_type": "code",
      "source": [
        "# Write DataFrame to active_user table in RDS\n",
        "circuits_df.write.jdbc(url=jdbc_url, table='circuits', mode=mode, properties=config)"
      ],
      "metadata": {
        "id": "sO3j1uAGuS3q"
      },
      "execution_count": 34,
      "outputs": []
    },
    {
      "cell_type": "code",
      "source": [
        "drivers_df.write.jdbc(url=jdbc_url, table='drivers', mode=mode, properties=config)"
      ],
      "metadata": {
        "id": "Z8r-rJM4h_du"
      },
      "execution_count": 42,
      "outputs": []
    },
    {
      "cell_type": "code",
      "source": [
        "constructors_df.write.jdbc(url=jdbc_url, table='constructors', mode=mode, properties=config)"
      ],
      "metadata": {
        "id": "VaeKM6ftiqQF"
      },
      "execution_count": 44,
      "outputs": []
    },
    {
      "cell_type": "code",
      "source": [
        "seasons_df.write.jdbc(url=jdbc_url, table='seasons', mode=mode, properties=config)"
      ],
      "metadata": {
        "id": "RYOWUdO8jLlp"
      },
      "execution_count": 46,
      "outputs": []
    },
    {
      "cell_type": "code",
      "source": [
        "races_df.write.jdbc(url=jdbc_url, table='races', mode=mode, properties=config)"
      ],
      "metadata": {
        "id": "QMojsWfFkS2V"
      },
      "execution_count": 54,
      "outputs": []
    },
    {
      "cell_type": "code",
      "source": [
        "pit_stops_df.write.jdbc(url=jdbc_url, table='pit_stops', mode=mode, properties=config)"
      ],
      "metadata": {
        "id": "tNUTrPqRkjHs"
      },
      "execution_count": 58,
      "outputs": []
    },
    {
      "cell_type": "code",
      "source": [
        "lap_times_df.write.jdbc(url=jdbc_url, table='lap_times', mode=mode, properties=config)"
      ],
      "metadata": {
        "id": "IqX_g1fDkw7P"
      },
      "execution_count": 60,
      "outputs": []
    },
    {
      "cell_type": "code",
      "source": [
        "qualifying_df.write.jdbc(url=jdbc_url, table='qualifying', mode=mode, properties=config)"
      ],
      "metadata": {
        "id": "-2Vex5N3l9Rs"
      },
      "execution_count": 62,
      "outputs": []
    },
    {
      "cell_type": "code",
      "source": [
        "status_df.write.jdbc(url=jdbc_url, table='status', mode=mode, properties=config)"
      ],
      "metadata": {
        "id": "LWKNist2mGw_"
      },
      "execution_count": 64,
      "outputs": []
    },
    {
      "cell_type": "code",
      "source": [
        "results_df.write.jdbc(url=jdbc_url, table='results', mode=mode, properties=config)"
      ],
      "metadata": {
        "id": "GzhzVBUgmznE"
      },
      "execution_count": 74,
      "outputs": []
    },
    {
      "cell_type": "code",
      "source": [
        "driver_standings_df.write.jdbc(url=jdbc_url, table='driver_standings', mode=mode, properties=config)"
      ],
      "metadata": {
        "id": "t_CaUW6SnDws"
      },
      "execution_count": 76,
      "outputs": []
    },
    {
      "cell_type": "code",
      "source": [
        "constructor_standings_df.write.jdbc(url=jdbc_url, table='constructor_standings', mode=mode, properties=config)"
      ],
      "metadata": {
        "id": "Xary9ZDonUfO"
      },
      "execution_count": 78,
      "outputs": []
    },
    {
      "cell_type": "code",
      "source": [
        "constructor_results_df.write.jdbc(url=jdbc_url, table='constructor_results', mode=mode, properties=config)"
      ],
      "metadata": {
        "id": "61cCEOEsnkKd"
      },
      "execution_count": 80,
      "outputs": []
    }
  ]
}