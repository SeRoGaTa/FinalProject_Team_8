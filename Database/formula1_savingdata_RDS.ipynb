{
  "nbformat": 4,
  "nbformat_minor": 0,
  "metadata": {
    "colab": {
      "name": "formula1_savingdata_RDS.ipynb",
      "provenance": [],
      "collapsed_sections": []
    },
    "kernelspec": {
      "name": "python3",
      "display_name": "Python 3"
    },
    "language_info": {
      "name": "python"
    }
  },
  "cells": [
    {
      "cell_type": "code",
      "execution_count": 1,
      "metadata": {
        "colab": {
          "base_uri": "https://localhost:8080/"
        },
        "id": "Og_F0tGAqSJh",
        "outputId": "b3e97252-6df5-4ce0-db41-27bad3b07949"
      },
      "outputs": [
        {
          "output_type": "stream",
          "name": "stdout",
          "text": [
            "Get:1 https://cloud.r-project.org/bin/linux/ubuntu bionic-cran40/ InRelease [3,626 B]\n",
            "Ign:2 https://developer.download.nvidia.com/compute/cuda/repos/ubuntu1804/x86_64  InRelease\n",
            "Ign:3 https://developer.download.nvidia.com/compute/machine-learning/repos/ubuntu1804/x86_64  InRelease\n",
            "Get:4 http://security.ubuntu.com/ubuntu bionic-security InRelease [88.7 kB]\n",
            "Get:5 http://ppa.launchpad.net/c2d4u.team/c2d4u4.0+/ubuntu bionic InRelease [15.9 kB]\n",
            "Get:6 https://developer.download.nvidia.com/compute/cuda/repos/ubuntu1804/x86_64  Release [696 B]\n",
            "Hit:7 https://developer.download.nvidia.com/compute/machine-learning/repos/ubuntu1804/x86_64  Release\n",
            "Get:8 https://developer.download.nvidia.com/compute/cuda/repos/ubuntu1804/x86_64  Release.gpg [836 B]\n",
            "Hit:9 http://archive.ubuntu.com/ubuntu bionic InRelease\n",
            "Get:11 http://archive.ubuntu.com/ubuntu bionic-updates InRelease [88.7 kB]\n",
            "Get:12 https://developer.download.nvidia.com/compute/cuda/repos/ubuntu1804/x86_64  Packages [930 kB]\n",
            "Hit:13 http://ppa.launchpad.net/cran/libgit2/ubuntu bionic InRelease\n",
            "Hit:14 http://ppa.launchpad.net/deadsnakes/ppa/ubuntu bionic InRelease\n",
            "Get:15 http://archive.ubuntu.com/ubuntu bionic-backports InRelease [74.6 kB]\n",
            "Get:16 http://ppa.launchpad.net/graphics-drivers/ppa/ubuntu bionic InRelease [21.3 kB]\n",
            "Get:17 http://security.ubuntu.com/ubuntu bionic-security/universe amd64 Packages [1,474 kB]\n",
            "Get:18 http://archive.ubuntu.com/ubuntu bionic-updates/restricted amd64 Packages [840 kB]\n",
            "Get:19 http://ppa.launchpad.net/c2d4u.team/c2d4u4.0+/ubuntu bionic/main Sources [1,827 kB]\n",
            "Get:20 http://security.ubuntu.com/ubuntu bionic-security/main amd64 Packages [2,596 kB]\n",
            "Get:21 http://archive.ubuntu.com/ubuntu bionic-updates/main amd64 Packages [3,035 kB]\n",
            "Get:22 http://security.ubuntu.com/ubuntu bionic-security/restricted amd64 Packages [806 kB]\n",
            "Get:23 http://archive.ubuntu.com/ubuntu bionic-updates/universe amd64 Packages [2,252 kB]\n",
            "Get:24 http://ppa.launchpad.net/c2d4u.team/c2d4u4.0+/ubuntu bionic/main amd64 Packages [937 kB]\n",
            "Get:25 http://ppa.launchpad.net/graphics-drivers/ppa/ubuntu bionic/main amd64 Packages [42.8 kB]\n",
            "Fetched 15.0 MB in 7s (2,099 kB/s)\n",
            "Reading package lists... Done\n"
          ]
        }
      ],
      "source": [
        "import os\n",
        "# Find the latest version of spark 3.0  from http://www.apache.org/dist/spark/ and enter as the spark version\n",
        "# For example:\n",
        "# spark_version = 'spark-3.0.3'\n",
        "spark_version = 'spark-3.0.3'\n",
        "os.environ['SPARK_VERSION']=spark_version\n",
        "\n",
        "# Install Spark and Java\n",
        "!apt-get update\n",
        "!apt-get install openjdk-11-jdk-headless -qq > /dev/null\n",
        "!wget -q http://www.apache.org/dist/spark/$SPARK_VERSION/$SPARK_VERSION-bin-hadoop2.7.tgz\n",
        "!tar xf $SPARK_VERSION-bin-hadoop2.7.tgz\n",
        "!pip install -q findspark\n",
        "\n",
        "# Set Environment Variables\n",
        "import os\n",
        "os.environ[\"JAVA_HOME\"] = \"/usr/lib/jvm/java-11-openjdk-amd64\"\n",
        "os.environ[\"SPARK_HOME\"] = f\"/content/{spark_version}-bin-hadoop2.7\"\n",
        "\n",
        "# Start a SparkSession\n",
        "import findspark\n",
        "findspark.init()"
      ]
    },
    {
      "cell_type": "code",
      "source": [
        "!wget https://jdbc.postgresql.org/download/postgresql-42.2.16.jar"
      ],
      "metadata": {
        "colab": {
          "base_uri": "https://localhost:8080/"
        },
        "id": "4iE5lr6rql_B",
        "outputId": "41af6681-5913-422f-8f2c-18e9439ccaf8"
      },
      "execution_count": 2,
      "outputs": [
        {
          "output_type": "stream",
          "name": "stdout",
          "text": [
            "--2022-02-26 18:59:29--  https://jdbc.postgresql.org/download/postgresql-42.2.16.jar\n",
            "Resolving jdbc.postgresql.org (jdbc.postgresql.org)... 72.32.157.228, 2001:4800:3e1:1::228\n",
            "Connecting to jdbc.postgresql.org (jdbc.postgresql.org)|72.32.157.228|:443... connected.\n",
            "HTTP request sent, awaiting response... 200 OK\n",
            "Length: 1002883 (979K) [application/java-archive]\n",
            "Saving to: ‘postgresql-42.2.16.jar’\n",
            "\n",
            "postgresql-42.2.16. 100%[===================>] 979.38K  1.22MB/s    in 0.8s    \n",
            "\n",
            "2022-02-26 18:59:31 (1.22 MB/s) - ‘postgresql-42.2.16.jar’ saved [1002883/1002883]\n",
            "\n"
          ]
        }
      ]
    },
    {
      "cell_type": "code",
      "source": [
        "from pyspark.sql import SparkSession\n",
        "spark = SparkSession.builder.appName(\"formula1ETL\").config(\"spark.driver.extraClassPath\",\"/content/postgresql-42.2.16.jar\").getOrCreate()"
      ],
      "metadata": {
        "id": "jO08T8PIqVmB"
      },
      "execution_count": 3,
      "outputs": []
    },
    {
      "cell_type": "code",
      "source": [
        "# Read in data from S3 Buckets\n",
        "from pyspark import SparkFiles\n",
        "url = \"https://formula1-team8-bucket.s3.amazonaws.com/circuits.csv\"\n",
        "spark.sparkContext.addFile(url)\n",
        "circuits_df = spark.read.csv(SparkFiles.get(\"circuits.csv\"), sep=\",\", header=True)"
      ],
      "metadata": {
        "id": "8qZk7E7EqYAa"
      },
      "execution_count": 4,
      "outputs": []
    },
    {
      "cell_type": "code",
      "source": [
        "# Show DataFrame\n",
        "circuits_df.show()"
      ],
      "metadata": {
        "id": "bx-XwQMkrF-6",
        "colab": {
          "base_uri": "https://localhost:8080/"
        },
        "outputId": "1c35d677-136c-46a0-e3e3-2394ffd8d3a8"
      },
      "execution_count": 5,
      "outputs": [
        {
          "output_type": "stream",
          "name": "stdout",
          "text": [
            "+---------+--------------+--------------------+------------+---------+--------+---------+---+--------------------+\n",
            "|circuitId|    circuitRef|                name|    location|  country|     lat|      lng|alt|                 url|\n",
            "+---------+--------------+--------------------+------------+---------+--------+---------+---+--------------------+\n",
            "|        1|   albert_park|Albert Park Grand...|   Melbourne|Australia|-37.8497|  144.968| 10|http://en.wikiped...|\n",
            "|        2|        sepang|Sepang Internatio...|Kuala Lumpur| Malaysia| 2.76083|  101.738| 18|http://en.wikiped...|\n",
            "|        3|       bahrain|Bahrain Internati...|      Sakhir|  Bahrain| 26.0325|  50.5106|  7|http://en.wikiped...|\n",
            "|        4|     catalunya|Circuit de Barcel...|    Montmeló|    Spain|   41.57|  2.26111|109|http://en.wikiped...|\n",
            "|        5|      istanbul|       Istanbul Park|    Istanbul|   Turkey| 40.9517|   29.405|130|http://en.wikiped...|\n",
            "|        6|        monaco|   Circuit de Monaco| Monte-Carlo|   Monaco| 43.7347|  7.42056|  7|http://en.wikiped...|\n",
            "|        7|    villeneuve|Circuit Gilles Vi...|    Montreal|   Canada|    45.5| -73.5228| 13|http://en.wikiped...|\n",
            "|        8|   magny_cours|Circuit de Nevers...| Magny Cours|   France| 46.8642|  3.16361|228|http://en.wikiped...|\n",
            "|        9|   silverstone| Silverstone Circuit| Silverstone|       UK| 52.0786| -1.01694|153|http://en.wikiped...|\n",
            "|       10|hockenheimring|      Hockenheimring|  Hockenheim|  Germany| 49.3278|  8.56583|103|http://en.wikiped...|\n",
            "|       11|   hungaroring|         Hungaroring|    Budapest|  Hungary| 47.5789|  19.2486|264|http://en.wikiped...|\n",
            "|       12|      valencia|Valencia Street C...|    Valencia|    Spain| 39.4589|-0.331667|  4|http://en.wikiped...|\n",
            "|       13|           spa|Circuit de Spa-Fr...|         Spa|  Belgium| 50.4372|  5.97139|401|http://en.wikiped...|\n",
            "|       14|         monza|Autodromo Naziona...|       Monza|    Italy| 45.6156|  9.28111|162|http://en.wikiped...|\n",
            "|       15|    marina_bay|Marina Bay Street...|  Marina Bay|Singapore|  1.2914|  103.864| 18|http://en.wikiped...|\n",
            "|       16|          fuji|       Fuji Speedway|       Oyama|    Japan| 35.3717|  138.927|583|http://en.wikiped...|\n",
            "|       17|      shanghai|Shanghai Internat...|    Shanghai|    China| 31.3389|   121.22|  5|http://en.wikiped...|\n",
            "|       18|    interlagos|Autódromo José Ca...|   São Paulo|   Brazil|-23.7036| -46.6997|785|http://en.wikiped...|\n",
            "|       19|  indianapolis|Indianapolis Moto...|Indianapolis|      USA|  39.795| -86.2347|223|http://en.wikiped...|\n",
            "|       20|   nurburgring|         Nürburgring|     Nürburg|  Germany| 50.3356|   6.9475|578|http://en.wikiped...|\n",
            "+---------+--------------+--------------------+------------+---------+--------+---------+---+--------------------+\n",
            "only showing top 20 rows\n",
            "\n"
          ]
        }
      ]
    },
    {
      "cell_type": "code",
      "source": [
        "url =\"https://formula1-team8-bucket.s3.amazonaws.com/constructor_results.csv\"\n",
        "spark.sparkContext.addFile(url)\n",
        "constructor_results_df = spark.read.csv(SparkFiles.get(\"constructor_results.csv\"), sep=\",\", header=True, inferSchema=True)\n",
        "\n",
        "# Show DataFrame\n",
        "constructor_results_df.show()"
      ],
      "metadata": {
        "id": "BSniC4eOrNnn",
        "colab": {
          "base_uri": "https://localhost:8080/"
        },
        "outputId": "9704418a-ab03-4468-baa7-1668232d927f"
      },
      "execution_count": 6,
      "outputs": [
        {
          "output_type": "stream",
          "name": "stdout",
          "text": [
            "+--------------------+------+-------------+------+------+\n",
            "|constructorResultsId|raceId|constructorId|points|status|\n",
            "+--------------------+------+-------------+------+------+\n",
            "|                   1|    18|            1|  14.0|    \\N|\n",
            "|                   2|    18|            2|   8.0|    \\N|\n",
            "|                   3|    18|            3|   9.0|    \\N|\n",
            "|                   4|    18|            4|   5.0|    \\N|\n",
            "|                   5|    18|            5|   2.0|    \\N|\n",
            "|                   6|    18|            6|   1.0|    \\N|\n",
            "|                   7|    18|            7|   0.0|    \\N|\n",
            "|                   8|    18|            8|   0.0|    \\N|\n",
            "|                   9|    18|            9|   0.0|    \\N|\n",
            "|                  10|    18|           10|   0.0|    \\N|\n",
            "|                  11|    18|           11|   0.0|    \\N|\n",
            "|                  12|    19|            6|  10.0|    \\N|\n",
            "|                  13|    19|            2|  11.0|    \\N|\n",
            "|                  14|    19|            1|  10.0|    \\N|\n",
            "|                  15|    19|            7|   5.0|    \\N|\n",
            "|                  16|    19|            9|   2.0|    \\N|\n",
            "|                  17|    19|            4|   1.0|    \\N|\n",
            "|                  18|    19|           11|   0.0|    \\N|\n",
            "|                  19|    19|           10|   0.0|    \\N|\n",
            "|                  20|    19|            3|   0.0|    \\N|\n",
            "+--------------------+------+-------------+------+------+\n",
            "only showing top 20 rows\n",
            "\n"
          ]
        }
      ]
    },
    {
      "cell_type": "code",
      "source": [
        "url =\"https://formula1-team8-bucket.s3.amazonaws.com/constructor_standings.csv\"\n",
        "spark.sparkContext.addFile(url)\n",
        "constructor_standings_df = spark.read.csv(SparkFiles.get(\"constructor_standings.csv\"), sep=\",\", header=True, inferSchema=True)\n",
        "\n",
        "# Show DataFrame\n",
        "constructor_standings_df.show()"
      ],
      "metadata": {
        "id": "nJ43I5zDa9Oe",
        "colab": {
          "base_uri": "https://localhost:8080/"
        },
        "outputId": "1532bcde-a312-47a2-ae48-795a9f5cbf40"
      },
      "execution_count": 7,
      "outputs": [
        {
          "output_type": "stream",
          "name": "stdout",
          "text": [
            "+----------------------+------+-------------+------+--------+------------+----+\n",
            "|constructorStandingsId|raceId|constructorId|points|position|positionText|wins|\n",
            "+----------------------+------+-------------+------+--------+------------+----+\n",
            "|                     1|    18|            1|  14.0|       1|           1|   1|\n",
            "|                     2|    18|            2|   8.0|       3|           3|   0|\n",
            "|                     3|    18|            3|   9.0|       2|           2|   0|\n",
            "|                     4|    18|            4|   5.0|       4|           4|   0|\n",
            "|                     5|    18|            5|   2.0|       5|           5|   0|\n",
            "|                     6|    18|            6|   1.0|       6|           6|   0|\n",
            "|                     7|    19|            1|  24.0|       1|           1|   1|\n",
            "|                     8|    19|            2|  19.0|       2|           2|   0|\n",
            "|                     9|    19|            3|   9.0|       4|           4|   0|\n",
            "|                    10|    19|            4|   6.0|       5|           5|   0|\n",
            "|                    11|    19|            5|   2.0|       8|           8|   0|\n",
            "|                    12|    19|            6|  11.0|       3|           3|   1|\n",
            "|                    13|    19|            7|   5.0|       6|           6|   0|\n",
            "|                    14|    19|            9|   2.0|       7|           7|   0|\n",
            "|                    15|    19|           11|   0.0|       9|           9|   0|\n",
            "|                    16|    19|           10|   0.0|      10|          10|   0|\n",
            "|                    17|    19|            8|   0.0|      11|          11|   0|\n",
            "|                    18|    20|            1|  28.0|       3|           3|   1|\n",
            "|                    19|    20|            2|  30.0|       1|           1|   0|\n",
            "|                    20|    20|            3|  10.0|       4|           4|   0|\n",
            "+----------------------+------+-------------+------+--------+------------+----+\n",
            "only showing top 20 rows\n",
            "\n"
          ]
        }
      ]
    },
    {
      "cell_type": "code",
      "source": [
        "url =\"https://formula1-team8-bucket.s3.amazonaws.com/constructors.csv\"\n",
        "spark.sparkContext.addFile(url)\n",
        "constructors_df = spark.read.csv(SparkFiles.get(\"constructors.csv\"), sep=\",\", header=True, inferSchema=True)\n",
        "\n",
        "# Show DataFrame\n",
        "constructors_df.show()"
      ],
      "metadata": {
        "id": "SZYKmfCmbJpe",
        "colab": {
          "base_uri": "https://localhost:8080/"
        },
        "outputId": "bdd92633-07f1-4f2b-e04b-a7fd5392ba38"
      },
      "execution_count": 8,
      "outputs": [
        {
          "output_type": "stream",
          "name": "stdout",
          "text": [
            "+-------------+--------------+-----------+-----------+--------------------+\n",
            "|constructorId|constructorRef|       name|nationality|                 url|\n",
            "+-------------+--------------+-----------+-----------+--------------------+\n",
            "|            1|       mclaren|    McLaren|    British|http://en.wikiped...|\n",
            "|            2|    bmw_sauber| BMW Sauber|     German|http://en.wikiped...|\n",
            "|            3|      williams|   Williams|    British|http://en.wikiped...|\n",
            "|            4|       renault|    Renault|     French|http://en.wikiped...|\n",
            "|            5|    toro_rosso| Toro Rosso|    Italian|http://en.wikiped...|\n",
            "|            6|       ferrari|    Ferrari|    Italian|http://en.wikiped...|\n",
            "|            7|        toyota|     Toyota|   Japanese|http://en.wikiped...|\n",
            "|            8|   super_aguri|Super Aguri|   Japanese|http://en.wikiped...|\n",
            "|            9|      red_bull|   Red Bull|   Austrian|http://en.wikiped...|\n",
            "|           10|   force_india|Force India|     Indian|http://en.wikiped...|\n",
            "|           11|         honda|      Honda|   Japanese|http://en.wikiped...|\n",
            "|           12|        spyker|     Spyker|      Dutch|http://en.wikiped...|\n",
            "|           13|           mf1|        MF1|    Russian|http://en.wikiped...|\n",
            "|           14|    spyker_mf1| Spyker MF1|      Dutch|http://en.wikiped...|\n",
            "|           15|        sauber|     Sauber|      Swiss|http://en.wikiped...|\n",
            "|           16|           bar|        BAR|    British|http://en.wikiped...|\n",
            "|           17|        jordan|     Jordan|      Irish|http://en.wikiped...|\n",
            "|           18|       minardi|    Minardi|    Italian|http://en.wikiped...|\n",
            "|           19|        jaguar|     Jaguar|    British|http://en.wikiped...|\n",
            "|           20|         prost|      Prost|     French|http://en.wikiped...|\n",
            "+-------------+--------------+-----------+-----------+--------------------+\n",
            "only showing top 20 rows\n",
            "\n"
          ]
        }
      ]
    },
    {
      "cell_type": "code",
      "source": [
        "url =\"https://formula1-team8-bucket.s3.amazonaws.com/driver_standings.csv\"\n",
        "spark.sparkContext.addFile(url)\n",
        "driver_standings_df = spark.read.csv(SparkFiles.get(\"driver_standings.csv\"), sep=\",\", header=True, inferSchema=True)\n",
        "\n",
        "# Show DataFrame\n",
        "driver_standings_df.show()"
      ],
      "metadata": {
        "id": "EPuGihWdbVae",
        "colab": {
          "base_uri": "https://localhost:8080/"
        },
        "outputId": "0fa6a6d6-7131-4c70-ac51-bef351ce4953"
      },
      "execution_count": 9,
      "outputs": [
        {
          "output_type": "stream",
          "name": "stdout",
          "text": [
            "+-----------------+------+--------+------+--------+------------+----+\n",
            "|driverStandingsId|raceId|driverId|points|position|positionText|wins|\n",
            "+-----------------+------+--------+------+--------+------------+----+\n",
            "|                1|    18|       1|  10.0|       1|           1|   1|\n",
            "|                2|    18|       2|   8.0|       2|           2|   0|\n",
            "|                3|    18|       3|   6.0|       3|           3|   0|\n",
            "|                4|    18|       4|   5.0|       4|           4|   0|\n",
            "|                5|    18|       5|   4.0|       5|           5|   0|\n",
            "|                6|    18|       6|   3.0|       6|           6|   0|\n",
            "|                7|    18|       7|   2.0|       7|           7|   0|\n",
            "|                8|    18|       8|   1.0|       8|           8|   0|\n",
            "|                9|    19|       1|  14.0|       1|           1|   1|\n",
            "|               10|    19|       2|  11.0|       3|           3|   0|\n",
            "|               11|    19|       3|   6.0|       6|           6|   0|\n",
            "|               12|    19|       4|   6.0|       7|           7|   0|\n",
            "|               13|    19|       5|  10.0|       4|           4|   0|\n",
            "|               14|    19|       6|   3.0|       9|           9|   0|\n",
            "|               15|    19|       7|   2.0|      10|          10|   0|\n",
            "|               16|    19|       8|  11.0|       2|           2|   1|\n",
            "|               17|    19|       9|   8.0|       5|           5|   0|\n",
            "|               18|    19|      15|   5.0|       8|           8|   0|\n",
            "|               19|    19|      17|   2.0|      11|          11|   0|\n",
            "|               20|    19|      14|   0.0|      12|          12|   0|\n",
            "+-----------------+------+--------+------+--------+------------+----+\n",
            "only showing top 20 rows\n",
            "\n"
          ]
        }
      ]
    },
    {
      "cell_type": "code",
      "source": [
        "url =\"https://formula1-team8-bucket.s3.amazonaws.com/drivers.csv\"\n",
        "spark.sparkContext.addFile(url)\n",
        "drivers_df = spark.read.csv(SparkFiles.get(\"drivers.csv\"), sep=\",\", header=True, inferSchema=True)\n",
        "\n",
        "# Show DataFrame\n",
        "drivers_df.show()"
      ],
      "metadata": {
        "id": "PebKLdDCbdqH",
        "colab": {
          "base_uri": "https://localhost:8080/"
        },
        "outputId": "aa1c1509-8b95-41fc-91c2-60554f3f680a"
      },
      "execution_count": 10,
      "outputs": [
        {
          "output_type": "stream",
          "name": "stdout",
          "text": [
            "+--------+----------+------+----+---------+----------+----------+-----------+--------------------+\n",
            "|driverId| driverRef|number|code| forename|   surname|       dob|nationality|                 url|\n",
            "+--------+----------+------+----+---------+----------+----------+-----------+--------------------+\n",
            "|       1|  hamilton|    44| HAM|    Lewis|  Hamilton|1985-01-07|    British|http://en.wikiped...|\n",
            "|       2|  heidfeld|    \\N| HEI|     Nick|  Heidfeld|1977-05-10|     German|http://en.wikiped...|\n",
            "|       3|   rosberg|     6| ROS|     Nico|   Rosberg|1985-06-27|     German|http://en.wikiped...|\n",
            "|       4|    alonso|    14| ALO| Fernando|    Alonso|1981-07-29|    Spanish|http://en.wikiped...|\n",
            "|       5|kovalainen|    \\N| KOV|   Heikki|Kovalainen|1981-10-19|    Finnish|http://en.wikiped...|\n",
            "|       6|  nakajima|    \\N| NAK|   Kazuki|  Nakajima|1985-01-11|   Japanese|http://en.wikiped...|\n",
            "|       7|  bourdais|    \\N| BOU|Sébastien|  Bourdais|1979-02-28|     French|http://en.wikiped...|\n",
            "|       8| raikkonen|     7| RAI|     Kimi| Räikkönen|1979-10-17|    Finnish|http://en.wikiped...|\n",
            "|       9|    kubica|    88| KUB|   Robert|    Kubica|1984-12-07|     Polish|http://en.wikiped...|\n",
            "|      10|     glock|    \\N| GLO|     Timo|     Glock|1982-03-18|     German|http://en.wikiped...|\n",
            "|      11|      sato|    \\N| SAT|   Takuma|      Sato|1977-01-28|   Japanese|http://en.wikiped...|\n",
            "|      12| piquet_jr|    \\N| PIQ|   Nelson|Piquet Jr.|1985-07-25|  Brazilian|http://en.wikiped...|\n",
            "|      13|     massa|    19| MAS|   Felipe|     Massa|1981-04-25|  Brazilian|http://en.wikiped...|\n",
            "|      14| coulthard|    \\N| COU|    David| Coulthard|1971-03-27|    British|http://en.wikiped...|\n",
            "|      15|    trulli|    \\N| TRU|    Jarno|    Trulli|1974-07-13|    Italian|http://en.wikiped...|\n",
            "|      16|     sutil|    99| SUT|   Adrian|     Sutil|1983-01-11|     German|http://en.wikiped...|\n",
            "|      17|    webber|    \\N| WEB|     Mark|    Webber|1976-08-27| Australian|http://en.wikiped...|\n",
            "|      18|    button|    22| BUT|   Jenson|    Button|1980-01-19|    British|http://en.wikiped...|\n",
            "|      19|  davidson|    \\N| DAV|  Anthony|  Davidson|1979-04-18|    British|http://en.wikiped...|\n",
            "|      20|    vettel|     5| VET|Sebastian|    Vettel|1987-07-03|     German|http://en.wikiped...|\n",
            "+--------+----------+------+----+---------+----------+----------+-----------+--------------------+\n",
            "only showing top 20 rows\n",
            "\n"
          ]
        }
      ]
    },
    {
      "cell_type": "code",
      "source": [
        "url =\"https://formula1-team8-bucket.s3.amazonaws.com/lap_times.csv\"\n",
        "spark.sparkContext.addFile(url)\n",
        "lap_times_df = spark.read.csv(SparkFiles.get(\"lap_times.csv\"), sep=\",\", header=True, inferSchema=True)\n",
        "\n",
        "# Show DataFrame\n",
        "lap_times_df.show()"
      ],
      "metadata": {
        "id": "XeoBmYlGblw3",
        "colab": {
          "base_uri": "https://localhost:8080/"
        },
        "outputId": "5d9121c4-01d8-409c-a5bc-f453fcd28e00"
      },
      "execution_count": 11,
      "outputs": [
        {
          "output_type": "stream",
          "name": "stdout",
          "text": [
            "+------+--------+---+--------+--------+------------+\n",
            "|raceId|driverId|lap|position|    time|milliseconds|\n",
            "+------+--------+---+--------+--------+------------+\n",
            "|   841|      20|  1|       1|1:38.109|       98109|\n",
            "|   841|      20|  2|       1|1:33.006|       93006|\n",
            "|   841|      20|  3|       1|1:32.713|       92713|\n",
            "|   841|      20|  4|       1|1:32.803|       92803|\n",
            "|   841|      20|  5|       1|1:32.342|       92342|\n",
            "|   841|      20|  6|       1|1:32.605|       92605|\n",
            "|   841|      20|  7|       1|1:32.502|       92502|\n",
            "|   841|      20|  8|       1|1:32.537|       92537|\n",
            "|   841|      20|  9|       1|1:33.240|       93240|\n",
            "|   841|      20| 10|       1|1:32.572|       92572|\n",
            "|   841|      20| 11|       1|1:32.669|       92669|\n",
            "|   841|      20| 12|       1|1:32.902|       92902|\n",
            "|   841|      20| 13|       1|1:33.698|       93698|\n",
            "|   841|      20| 14|       3|1:52.075|      112075|\n",
            "|   841|      20| 15|       4|1:38.385|       98385|\n",
            "|   841|      20| 16|       2|1:31.548|       91548|\n",
            "|   841|      20| 17|       1|1:30.800|       90800|\n",
            "|   841|      20| 18|       1|1:31.810|       91810|\n",
            "|   841|      20| 19|       1|1:31.018|       91018|\n",
            "|   841|      20| 20|       1|1:31.055|       91055|\n",
            "+------+--------+---+--------+--------+------------+\n",
            "only showing top 20 rows\n",
            "\n"
          ]
        }
      ]
    },
    {
      "cell_type": "code",
      "source": [
        "url =\"https://formula1-team8-bucket.s3.amazonaws.com/pit_stops.csv\"\n",
        "spark.sparkContext.addFile(url)\n",
        "pit_stops_df = spark.read.csv(SparkFiles.get(\"pit_stops.csv\"), sep=\",\", header=True, inferSchema=True)\n",
        "\n",
        "# Show DataFrame\n",
        "pit_stops_df.show()"
      ],
      "metadata": {
        "id": "3Gne1G0rbxJP",
        "colab": {
          "base_uri": "https://localhost:8080/"
        },
        "outputId": "91e2f6ae-cb3d-41fa-948b-83720484ddf8"
      },
      "execution_count": 12,
      "outputs": [
        {
          "output_type": "stream",
          "name": "stdout",
          "text": [
            "+------+--------+----+---+--------+--------+------------+\n",
            "|raceId|driverId|stop|lap|    time|duration|milliseconds|\n",
            "+------+--------+----+---+--------+--------+------------+\n",
            "|   841|     153|   1|  1|17:05:23|  26.898|       26898|\n",
            "|   841|      30|   1|  1|17:05:52|  25.021|       25021|\n",
            "|   841|      17|   1| 11|17:20:48|  23.426|       23426|\n",
            "|   841|       4|   1| 12|17:22:34|  23.251|       23251|\n",
            "|   841|      13|   1| 13|17:24:10|  23.842|       23842|\n",
            "|   841|      22|   1| 13|17:24:29|  23.643|       23643|\n",
            "|   841|      20|   1| 14|17:25:17|  22.603|       22603|\n",
            "|   841|     814|   1| 14|17:26:03|  24.863|       24863|\n",
            "|   841|     816|   1| 14|17:26:50|  25.259|       25259|\n",
            "|   841|      67|   1| 15|17:27:34|  25.342|       25342|\n",
            "|   841|       2|   1| 15|17:27:41|  22.994|       22994|\n",
            "|   841|       1|   1| 16|17:28:24|  23.227|       23227|\n",
            "|   841|     808|   1| 16|17:28:39|  24.535|       24535|\n",
            "|   841|       3|   1| 16|17:29:00|  23.716|       23716|\n",
            "|   841|     155|   1| 16|17:29:06|  24.064|       24064|\n",
            "|   841|      16|   1| 16|17:29:08|  25.978|       25978|\n",
            "|   841|      15|   1| 16|17:29:49|  24.899|       24899|\n",
            "|   841|      18|   1| 17|17:30:24|  16.867|       16867|\n",
            "|   841|     153|   2| 17|17:31:06|  24.463|       24463|\n",
            "|   841|       5|   1| 17|17:31:11|  24.865|       24865|\n",
            "+------+--------+----+---+--------+--------+------------+\n",
            "only showing top 20 rows\n",
            "\n"
          ]
        }
      ]
    },
    {
      "cell_type": "code",
      "source": [
        "url =\"https://formula1-team8-bucket.s3.amazonaws.com/qualifying.csv\"\n",
        "spark.sparkContext.addFile(url)\n",
        "qualifying_df = spark.read.csv(SparkFiles.get(\"qualifying.csv\"), sep=\",\", header=True, inferSchema=True)\n",
        "\n",
        "# Show DataFrame\n",
        "qualifying_df.show()"
      ],
      "metadata": {
        "id": "qRUUodg9b4ct",
        "colab": {
          "base_uri": "https://localhost:8080/"
        },
        "outputId": "a7504c91-0d9b-4d63-a28a-41a7f12a35c7"
      },
      "execution_count": 13,
      "outputs": [
        {
          "output_type": "stream",
          "name": "stdout",
          "text": [
            "+---------+------+--------+-------------+------+--------+--------+--------+--------+\n",
            "|qualifyId|raceId|driverId|constructorId|number|position|      q1|      q2|      q3|\n",
            "+---------+------+--------+-------------+------+--------+--------+--------+--------+\n",
            "|        1|    18|       1|            1|    22|       1|1:26.572|1:25.187|1:26.714|\n",
            "|        2|    18|       9|            2|     4|       2|1:26.103|1:25.315|1:26.869|\n",
            "|        3|    18|       5|            1|    23|       3|1:25.664|1:25.452|1:27.079|\n",
            "|        4|    18|      13|            6|     2|       4|1:25.994|1:25.691|1:27.178|\n",
            "|        5|    18|       2|            2|     3|       5|1:25.960|1:25.518|1:27.236|\n",
            "|        6|    18|      15|            7|    11|       6|1:26.427|1:26.101|1:28.527|\n",
            "|        7|    18|       3|            3|     7|       7|1:26.295|1:26.059|1:28.687|\n",
            "|        8|    18|      14|            9|     9|       8|1:26.381|1:26.063|1:29.041|\n",
            "|        9|    18|      10|            7|    12|       9|1:26.919|1:26.164|1:29.593|\n",
            "|       10|    18|      20|            5|    15|      10|1:26.702|1:25.842|      \\N|\n",
            "|       11|    18|      22|           11|    17|      11|1:26.369|1:26.173|      \\N|\n",
            "|       12|    18|       4|            4|     5|      12|1:26.907|1:26.188|      \\N|\n",
            "|       13|    18|      18|           11|    16|      13|1:26.712|1:26.259|      \\N|\n",
            "|       14|    18|       6|            3|     8|      14|1:26.891|1:26.413|      \\N|\n",
            "|       15|    18|      17|            9|    10|      15|1:26.914|      \\N|      \\N|\n",
            "|       16|    18|       8|            6|     1|      16|1:26.140|      \\N|      \\N|\n",
            "|       17|    18|      21|           10|    21|      17|1:27.207|      \\N|      \\N|\n",
            "|       18|    18|       7|            5|    14|      18|1:27.446|      \\N|      \\N|\n",
            "|       19|    18|      16|           10|    20|      19|1:27.859|      \\N|      \\N|\n",
            "|       20|    18|      11|            8|    18|      20|1:28.208|      \\N|      \\N|\n",
            "+---------+------+--------+-------------+------+--------+--------+--------+--------+\n",
            "only showing top 20 rows\n",
            "\n"
          ]
        }
      ]
    },
    {
      "cell_type": "code",
      "source": [
        "url =\"https://formula1-team8-bucket.s3.amazonaws.com/races.csv\"\n",
        "spark.sparkContext.addFile(url)\n",
        "races_df = spark.read.csv(SparkFiles.get(\"races.csv\"), sep=\",\", header=True, inferSchema=True)\n",
        "\n",
        "# Show DataFrame\n",
        "races_df.show()"
      ],
      "metadata": {
        "id": "MSndCRfTb_yO",
        "colab": {
          "base_uri": "https://localhost:8080/"
        },
        "outputId": "63714e86-e7d9-4951-d931-9490e0faff80"
      },
      "execution_count": 14,
      "outputs": [
        {
          "output_type": "stream",
          "name": "stdout",
          "text": [
            "+------+----+-----+---------+--------------------+----------+--------+--------------------+\n",
            "|raceId|year|round|circuitId|                name|      date|    time|                 url|\n",
            "+------+----+-----+---------+--------------------+----------+--------+--------------------+\n",
            "|     1|2009|    1|        1|Australian Grand ...|2009-03-29|06:00:00|http://en.wikiped...|\n",
            "|     2|2009|    2|        2|Malaysian Grand Prix|2009-04-05|09:00:00|http://en.wikiped...|\n",
            "|     3|2009|    3|       17|  Chinese Grand Prix|2009-04-19|07:00:00|http://en.wikiped...|\n",
            "|     4|2009|    4|        3|  Bahrain Grand Prix|2009-04-26|12:00:00|http://en.wikiped...|\n",
            "|     5|2009|    5|        4|  Spanish Grand Prix|2009-05-10|12:00:00|http://en.wikiped...|\n",
            "|     6|2009|    6|        6|   Monaco Grand Prix|2009-05-24|12:00:00|http://en.wikiped...|\n",
            "|     7|2009|    7|        5|  Turkish Grand Prix|2009-06-07|12:00:00|http://en.wikiped...|\n",
            "|     8|2009|    8|        9|  British Grand Prix|2009-06-21|12:00:00|http://en.wikiped...|\n",
            "|     9|2009|    9|       20|   German Grand Prix|2009-07-12|12:00:00|http://en.wikiped...|\n",
            "|    10|2009|   10|       11|Hungarian Grand Prix|2009-07-26|12:00:00|http://en.wikiped...|\n",
            "|    11|2009|   11|       12| European Grand Prix|2009-08-23|12:00:00|http://en.wikiped...|\n",
            "|    12|2009|   12|       13|  Belgian Grand Prix|2009-08-30|12:00:00|http://en.wikiped...|\n",
            "|    13|2009|   13|       14|  Italian Grand Prix|2009-09-13|12:00:00|http://en.wikiped...|\n",
            "|    14|2009|   14|       15|Singapore Grand Prix|2009-09-27|12:00:00|http://en.wikiped...|\n",
            "|    15|2009|   15|       22| Japanese Grand Prix|2009-10-04|05:00:00|http://en.wikiped...|\n",
            "|    16|2009|   16|       18|Brazilian Grand Prix|2009-10-18|16:00:00|http://en.wikiped...|\n",
            "|    17|2009|   17|       24|Abu Dhabi Grand Prix|2009-11-01|11:00:00|http://en.wikiped...|\n",
            "|    18|2008|    1|        1|Australian Grand ...|2008-03-16|04:30:00|http://en.wikiped...|\n",
            "|    19|2008|    2|        2|Malaysian Grand Prix|2008-03-23|07:00:00|http://en.wikiped...|\n",
            "|    20|2008|    3|        3|  Bahrain Grand Prix|2008-04-06|11:30:00|http://en.wikiped...|\n",
            "+------+----+-----+---------+--------------------+----------+--------+--------------------+\n",
            "only showing top 20 rows\n",
            "\n"
          ]
        }
      ]
    },
    {
      "cell_type": "code",
      "source": [
        "url =\"https://formula1-team8-bucket.s3.amazonaws.com/results.csv\"\n",
        "spark.sparkContext.addFile(url)\n",
        "results_df = spark.read.csv(SparkFiles.get(\"results.csv\"), sep=\",\", header=True, inferSchema=True)\n",
        "\n",
        "# Show DataFrame\n",
        "results_df.show()"
      ],
      "metadata": {
        "id": "N8730STfcIl9",
        "colab": {
          "base_uri": "https://localhost:8080/"
        },
        "outputId": "6c22e5b9-b4de-42e8-b64e-12105ac28ca5"
      },
      "execution_count": 15,
      "outputs": [
        {
          "output_type": "stream",
          "name": "stdout",
          "text": [
            "+--------+------+--------+-------------+------+----+--------+------------+-------------+------+----+-----------+------------+----------+----+--------------+---------------+--------+\n",
            "|resultId|raceId|driverId|constructorId|number|grid|position|positionText|positionOrder|points|laps|       time|milliseconds|fastestLap|rank|fastestLapTime|fastestLapSpeed|statusId|\n",
            "+--------+------+--------+-------------+------+----+--------+------------+-------------+------+----+-----------+------------+----------+----+--------------+---------------+--------+\n",
            "|       1|    18|       1|            1|    22|   1|       1|           1|            1|  10.0|  58|1:34:50.616|     5690616|        39|   2|      1:27.452|        218.300|       1|\n",
            "|       2|    18|       2|            2|     3|   5|       2|           2|            2|   8.0|  58|     +5.478|     5696094|        41|   3|      1:27.739|        217.586|       1|\n",
            "|       3|    18|       3|            3|     7|   7|       3|           3|            3|   6.0|  58|     +8.163|     5698779|        41|   5|      1:28.090|        216.719|       1|\n",
            "|       4|    18|       4|            4|     5|  11|       4|           4|            4|   5.0|  58|    +17.181|     5707797|        58|   7|      1:28.603|        215.464|       1|\n",
            "|       5|    18|       5|            1|    23|   3|       5|           5|            5|   4.0|  58|    +18.014|     5708630|        43|   1|      1:27.418|        218.385|       1|\n",
            "|       6|    18|       6|            3|     8|  13|       6|           6|            6|   3.0|  57|         \\N|          \\N|        50|  14|      1:29.639|        212.974|      11|\n",
            "|       7|    18|       7|            5|    14|  17|       7|           7|            7|   2.0|  55|         \\N|          \\N|        22|  12|      1:29.534|        213.224|       5|\n",
            "|       8|    18|       8|            6|     1|  15|       8|           8|            8|   1.0|  53|         \\N|          \\N|        20|   4|      1:27.903|        217.180|       5|\n",
            "|       9|    18|       9|            2|     4|   2|      \\N|           R|            9|   0.0|  47|         \\N|          \\N|        15|   9|      1:28.753|        215.100|       4|\n",
            "|      10|    18|      10|            7|    12|  18|      \\N|           R|           10|   0.0|  43|         \\N|          \\N|        23|  13|      1:29.558|        213.166|       3|\n",
            "|      11|    18|      11|            8|    18|  19|      \\N|           R|           11|   0.0|  32|         \\N|          \\N|        24|  15|      1:30.892|        210.038|       7|\n",
            "|      12|    18|      12|            4|     6|  20|      \\N|           R|           12|   0.0|  30|         \\N|          \\N|        20|  16|      1:31.384|        208.907|       8|\n",
            "|      13|    18|      13|            6|     2|   4|      \\N|           R|           13|   0.0|  29|         \\N|          \\N|        23|   6|      1:28.175|        216.510|       5|\n",
            "|      14|    18|      14|            9|     9|   8|      \\N|           R|           14|   0.0|  25|         \\N|          \\N|        21|  11|      1:29.502|        213.300|       4|\n",
            "|      15|    18|      15|            7|    11|   6|      \\N|           R|           15|   0.0|  19|         \\N|          \\N|        18|  10|      1:29.310|        213.758|      10|\n",
            "|      16|    18|      16|           10|    20|  22|      \\N|           R|           16|   0.0|   8|         \\N|          \\N|         8|  17|      1:32.021|        207.461|       9|\n",
            "|      17|    18|      17|            9|    10|  14|      \\N|           R|           17|   0.0|   0|         \\N|          \\N|        \\N|  \\N|            \\N|             \\N|       4|\n",
            "|      18|    18|      18|           11|    16|  12|      \\N|           R|           18|   0.0|   0|         \\N|          \\N|        \\N|  \\N|            \\N|             \\N|       4|\n",
            "|      19|    18|      19|            8|    19|  21|      \\N|           R|           19|   0.0|   0|         \\N|          \\N|        \\N|  \\N|            \\N|             \\N|       4|\n",
            "|      20|    18|      20|            5|    15|   9|      \\N|           R|           20|   0.0|   0|         \\N|          \\N|        \\N|  \\N|            \\N|             \\N|       4|\n",
            "+--------+------+--------+-------------+------+----+--------+------------+-------------+------+----+-----------+------------+----------+----+--------------+---------------+--------+\n",
            "only showing top 20 rows\n",
            "\n"
          ]
        }
      ]
    },
    {
      "cell_type": "code",
      "source": [
        "url =\"https://formula1-team8-bucket.s3.amazonaws.com/seasons.csv\"\n",
        "spark.sparkContext.addFile(url)\n",
        "seasons_df = spark.read.csv(SparkFiles.get(\"seasons.csv\"), sep=\",\", header=True, inferSchema=True)\n",
        "\n",
        "# Show DataFrame\n",
        "seasons_df.show()"
      ],
      "metadata": {
        "id": "uYl4ONbncQ4u",
        "colab": {
          "base_uri": "https://localhost:8080/"
        },
        "outputId": "258fa3cf-6608-43de-d2ef-3776c1d41cff"
      },
      "execution_count": 16,
      "outputs": [
        {
          "output_type": "stream",
          "name": "stdout",
          "text": [
            "+----+--------------------+\n",
            "|year|                 url|\n",
            "+----+--------------------+\n",
            "|2009|https://en.wikipe...|\n",
            "|2008|https://en.wikipe...|\n",
            "|2007|https://en.wikipe...|\n",
            "|2006|https://en.wikipe...|\n",
            "|2005|https://en.wikipe...|\n",
            "|2004|https://en.wikipe...|\n",
            "|2003|https://en.wikipe...|\n",
            "|2002|https://en.wikipe...|\n",
            "|2001|https://en.wikipe...|\n",
            "|2000|https://en.wikipe...|\n",
            "|1999|https://en.wikipe...|\n",
            "|1998|https://en.wikipe...|\n",
            "|1997|https://en.wikipe...|\n",
            "|1996|https://en.wikipe...|\n",
            "|1995|https://en.wikipe...|\n",
            "|1994|https://en.wikipe...|\n",
            "|1993|https://en.wikipe...|\n",
            "|1992|https://en.wikipe...|\n",
            "|1991|https://en.wikipe...|\n",
            "|1990|https://en.wikipe...|\n",
            "+----+--------------------+\n",
            "only showing top 20 rows\n",
            "\n"
          ]
        }
      ]
    },
    {
      "cell_type": "code",
      "source": [
        "url =\"https://formula1-team8-bucket.s3.amazonaws.com/status.csv\"\n",
        "spark.sparkContext.addFile(url)\n",
        "status_df = spark.read.csv(SparkFiles.get(\"status.csv\"), sep=\",\", header=True, inferSchema=True)\n",
        "\n",
        "# Show DataFrame\n",
        "status_df.show()"
      ],
      "metadata": {
        "id": "eIotI1BocaDn",
        "colab": {
          "base_uri": "https://localhost:8080/"
        },
        "outputId": "ced7b5b0-fad2-48a2-b248-605946ec6474"
      },
      "execution_count": 17,
      "outputs": [
        {
          "output_type": "stream",
          "name": "stdout",
          "text": [
            "+--------+------------+\n",
            "|statusId|      status|\n",
            "+--------+------------+\n",
            "|       1|    Finished|\n",
            "|       2|Disqualified|\n",
            "|       3|    Accident|\n",
            "|       4|   Collision|\n",
            "|       5|      Engine|\n",
            "|       6|     Gearbox|\n",
            "|       7|Transmission|\n",
            "|       8|      Clutch|\n",
            "|       9|  Hydraulics|\n",
            "|      10|  Electrical|\n",
            "|      11|      +1 Lap|\n",
            "|      12|     +2 Laps|\n",
            "|      13|     +3 Laps|\n",
            "|      14|     +4 Laps|\n",
            "|      15|     +5 Laps|\n",
            "|      16|     +6 Laps|\n",
            "|      17|     +7 Laps|\n",
            "|      18|     +8 Laps|\n",
            "|      19|     +9 Laps|\n",
            "|      20|    Spun off|\n",
            "+--------+------------+\n",
            "only showing top 20 rows\n",
            "\n"
          ]
        }
      ]
    },
    {
      "cell_type": "code",
      "source": [
        "url =\"https://formula1-team8-bucket.s3.amazonaws.com/points_collision.csv\"\n",
        "spark.sparkContext.addFile(url)\n",
        "points_collision_df = spark.read.csv(SparkFiles.get(\"points_collision.csv\"), sep=\",\", header=True, inferSchema=True)\n",
        "\n",
        "# Show DataFrame\n",
        "points_collision_df.show()"
      ],
      "metadata": {
        "colab": {
          "base_uri": "https://localhost:8080/"
        },
        "id": "UViqV0X0ZFqa",
        "outputId": "8a024606-1248-4cb7-fdfe-ee575cc5ee8f"
      },
      "execution_count": 18,
      "outputs": [
        {
          "output_type": "stream",
          "name": "stdout",
          "text": [
            "+--------+-------------------+---------------+\n",
            "|resultId|total_points_driver|average_col_acc|\n",
            "+--------+-------------------+---------------+\n",
            "|   23782|              636.0|           0.04|\n",
            "|   23783|             1555.5|           0.01|\n",
            "|   23784|              308.0|           0.01|\n",
            "|   23785|              458.0|           0.04|\n",
            "|   23786|              131.0|           0.05|\n",
            "|   23787|             1136.5|           0.09|\n",
            "|   23788|              116.0|           0.11|\n",
            "|   23789|             1022.0|           0.04|\n",
            "|   23790|               12.0|            0.0|\n",
            "|   23791|              418.5|           0.04|\n",
            "|   23792|              429.0|           0.03|\n",
            "|   23793|              185.0|           0.07|\n",
            "|   23794|              560.0|            0.1|\n",
            "|   23795|              136.0|           0.08|\n",
            "|   23796|                4.0|            0.1|\n",
            "|   23797|               47.0|           0.11|\n",
            "|   23798|               77.0|           0.05|\n",
            "|   23799|              309.0|           0.06|\n",
            "|   23800|                9.0|            0.1|\n",
            "|   23801|                1.0|           0.05|\n",
            "+--------+-------------------+---------------+\n",
            "only showing top 20 rows\n",
            "\n"
          ]
        }
      ]
    },
    {
      "cell_type": "code",
      "source": [
        "url =\"https://formula1-team8-bucket.s3.amazonaws.com/weather.csv\"\n",
        "spark.sparkContext.addFile(url)\n",
        "weather_df = spark.read.csv(SparkFiles.get(\"weather.csv\"), sep=\",\", header=True, inferSchema=True)\n",
        "\n",
        "# Show DataFrame\n",
        "weather_df.show()"
      ],
      "metadata": {
        "colab": {
          "base_uri": "https://localhost:8080/"
        },
        "id": "99dAq_uhZFOK",
        "outputId": "1b2b6818-9a7c-4f62-acbe-9d3835733d6d"
      },
      "execution_count": 19,
      "outputs": [
        {
          "output_type": "stream",
          "name": "stdout",
          "text": [
            "+------+--------------------+------------+\n",
            "|raceId|             weather|weather_type|\n",
            "+------+--------------------+------------+\n",
            "|   989|Parzialmente nuvo...|           2|\n",
            "|   990|              Sereno|           1|\n",
            "|   991|          Soleggiato|           1|\n",
            "|   992|            Nuvoloso|           2|\n",
            "|   993|Parzialmente nuvo...|           2|\n",
            "|   994|             Coperto|           2|\n",
            "|   995|              Sereno|           1|\n",
            "|   996|Parzialmente nuvo...|           2|\n",
            "|   997|              Sereno|           1|\n",
            "|   998|          Soleggiato|           1|\n",
            "|   999|Parzialmente nuvo...|           3|\n",
            "|  1000|              Sereno|           1|\n",
            "|  1001|Parzialmente nuvo...|           2|\n",
            "|  1002|Parzialmente nuvo...|           2|\n",
            "|  1003|              Sereno|           1|\n",
            "|  1004|Parzialmente nuvo...|           2|\n",
            "|  1005|          Soleggiato|           1|\n",
            "|  1006|          Soleggiato|           1|\n",
            "|  1007|Parzialmente nuvo...|           2|\n",
            "|  1008|Parzialmente nuvo...|           2|\n",
            "+------+--------------------+------------+\n",
            "only showing top 20 rows\n",
            "\n"
          ]
        }
      ]
    },
    {
      "cell_type": "code",
      "source": [
        "# Store environmental variable\n",
        "from getpass import getpass\n",
        "# password = getpass('Enter database password')\n",
        "# Configure settings for RDS\n",
        "mode = \"append\"\n",
        "jdbc_url=\"jdbc:postgresql://formula1-team8.cwip4lqac6n6.us-east-1.rds.amazonaws.com:5432/postgres\"\n",
        "config = {\"user\":\"postgres\",\n",
        "          \"password\": \"postgresteam8\",\n",
        "          \"driver\":\"org.postgresql.Driver\"}"
      ],
      "metadata": {
        "id": "ycMuvpkftGrm"
      },
      "execution_count": 24,
      "outputs": []
    },
    {
      "cell_type": "code",
      "source": [
        "circuits_df = circuits_df.withColumn(\"circuitId\",circuits_df.circuitId.cast(\"int\"))\n",
        "circuits_df = circuits_df.withColumn(\"lat\",circuits_df.lat.cast(\"float\"))\n",
        "circuits_df = circuits_df.withColumn(\"lng\",circuits_df.lng.cast(\"float\"))\n",
        "circuits_df = circuits_df.withColumn(\"alt\",circuits_df.alt.cast(\"int\"))\n",
        "drivers_df = drivers_df.withColumn(\"number\",drivers_df.number.cast(\"int\"))\n",
        "drivers_df = drivers_df.withColumn(\"dob\",drivers_df.dob.cast(\"date\"))\n",
        "races_df = races_df.withColumn(\"date\",races_df.date.cast(\"date\"))\n",
        "races_df = races_df.withColumn(\"time\",races_df.time.cast(\"Timestamp\"))\n",
        "pit_stops_df = pit_stops_df.withColumn(\"time\",pit_stops_df.time.cast(\"Timestamp\"))\n",
        "results_df = results_df.withColumn(\"number\",results_df.number.cast(\"int\"))\n",
        "results_df = results_df.withColumn(\"position\",results_df.position.cast(\"int\"))\n",
        "results_df = results_df.withColumn(\"milliseconds\",results_df.milliseconds.cast(\"int\"))\n",
        "results_df = results_df.withColumn(\"fastestLap\",results_df.fastestLap.cast(\"int\"))\n",
        "results_df = results_df.withColumn(\"rank\",results_df.rank.cast(\"int\"))"
      ],
      "metadata": {
        "id": "zGvtux3bgLdR"
      },
      "execution_count": null,
      "outputs": []
    },
    {
      "cell_type": "code",
      "source": [
        "weather_df.dtypes"
      ],
      "metadata": {
        "colab": {
          "base_uri": "https://localhost:8080/"
        },
        "id": "66Mx9Aq-aAXp",
        "outputId": "5b0e507d-15f1-45b2-8cce-e2288dbcb22f"
      },
      "execution_count": 22,
      "outputs": [
        {
          "output_type": "execute_result",
          "data": {
            "text/plain": [
              "[('raceId', 'int'), ('weather', 'string'), ('weather_type', 'int')]"
            ]
          },
          "metadata": {},
          "execution_count": 22
        }
      ]
    },
    {
      "cell_type": "code",
      "source": [
        "# Write DataFrame to active_user table in RDS\n",
        "circuits_df.write.jdbc(url=jdbc_url, table='circuits', mode=mode, properties=config)"
      ],
      "metadata": {
        "id": "sO3j1uAGuS3q"
      },
      "execution_count": null,
      "outputs": []
    },
    {
      "cell_type": "code",
      "source": [
        "drivers_df.write.jdbc(url=jdbc_url, table='drivers', mode=mode, properties=config)"
      ],
      "metadata": {
        "id": "Z8r-rJM4h_du"
      },
      "execution_count": null,
      "outputs": []
    },
    {
      "cell_type": "code",
      "source": [
        "constructors_df.write.jdbc(url=jdbc_url, table='constructors', mode=mode, properties=config)"
      ],
      "metadata": {
        "id": "VaeKM6ftiqQF"
      },
      "execution_count": null,
      "outputs": []
    },
    {
      "cell_type": "code",
      "source": [
        "seasons_df.write.jdbc(url=jdbc_url, table='seasons', mode=mode, properties=config)"
      ],
      "metadata": {
        "id": "RYOWUdO8jLlp"
      },
      "execution_count": null,
      "outputs": []
    },
    {
      "cell_type": "code",
      "source": [
        "races_df.write.jdbc(url=jdbc_url, table='races', mode=mode, properties=config)"
      ],
      "metadata": {
        "id": "QMojsWfFkS2V"
      },
      "execution_count": null,
      "outputs": []
    },
    {
      "cell_type": "code",
      "source": [
        "pit_stops_df.write.jdbc(url=jdbc_url, table='pit_stops', mode=mode, properties=config)"
      ],
      "metadata": {
        "id": "tNUTrPqRkjHs"
      },
      "execution_count": null,
      "outputs": []
    },
    {
      "cell_type": "code",
      "source": [
        "lap_times_df.write.jdbc(url=jdbc_url, table='lap_times', mode=mode, properties=config)"
      ],
      "metadata": {
        "id": "IqX_g1fDkw7P"
      },
      "execution_count": null,
      "outputs": []
    },
    {
      "cell_type": "code",
      "source": [
        "qualifying_df.write.jdbc(url=jdbc_url, table='qualifying', mode=mode, properties=config)"
      ],
      "metadata": {
        "id": "-2Vex5N3l9Rs"
      },
      "execution_count": null,
      "outputs": []
    },
    {
      "cell_type": "code",
      "source": [
        "status_df.write.jdbc(url=jdbc_url, table='status', mode=mode, properties=config)"
      ],
      "metadata": {
        "id": "LWKNist2mGw_"
      },
      "execution_count": null,
      "outputs": []
    },
    {
      "cell_type": "code",
      "source": [
        "results_df.write.jdbc(url=jdbc_url, table='results', mode=mode, properties=config)"
      ],
      "metadata": {
        "id": "GzhzVBUgmznE"
      },
      "execution_count": null,
      "outputs": []
    },
    {
      "cell_type": "code",
      "source": [
        "driver_standings_df.write.jdbc(url=jdbc_url, table='driver_standings', mode=mode, properties=config)"
      ],
      "metadata": {
        "id": "t_CaUW6SnDws"
      },
      "execution_count": null,
      "outputs": []
    },
    {
      "cell_type": "code",
      "source": [
        "constructor_standings_df.write.jdbc(url=jdbc_url, table='constructor_standings', mode=mode, properties=config)"
      ],
      "metadata": {
        "id": "Xary9ZDonUfO"
      },
      "execution_count": null,
      "outputs": []
    },
    {
      "cell_type": "code",
      "source": [
        "constructor_results_df.write.jdbc(url=jdbc_url, table='constructor_results', mode=mode, properties=config)"
      ],
      "metadata": {
        "id": "61cCEOEsnkKd"
      },
      "execution_count": null,
      "outputs": []
    },
    {
      "cell_type": "code",
      "source": [
        "points_collision_df.write.jdbc(url=jdbc_url, table='points_collision', mode=mode, properties=config)"
      ],
      "metadata": {
        "id": "DOO8-A02ac0a"
      },
      "execution_count": 25,
      "outputs": []
    },
    {
      "cell_type": "code",
      "source": [
        "weather_df.write.jdbc(url=jdbc_url, table='weather', mode=mode, properties=config)"
      ],
      "metadata": {
        "id": "kbopVA-Samoa"
      },
      "execution_count": 26,
      "outputs": []
    }
  ]
}