{
 "cells": [
  {
   "cell_type": "code",
   "execution_count": 1,
   "id": "cc0b9283",
   "metadata": {},
   "outputs": [],
   "source": [
    "# Import libraries\n",
    "import pandas as pd\n",
    "import numpy as np\n",
    "import matplotlib.pyplot as plt\n",
    "from matplotlib import style\n",
    "import seaborn as sns"
   ]
  },
  {
   "cell_type": "code",
   "execution_count": 2,
   "id": "1b2e9803",
   "metadata": {},
   "outputs": [],
   "source": [
    "# Reading CSV files from paths\n",
    "\n",
    "filepath = \"formula1.csv\"\n",
    "filepath2 = \"../Resources/results.csv\"\n",
    "filepath3 = \"../Resources/driver_standings.csv\"\n",
    "filepath4 = \"../Resources/races.csv\"\n",
    "filepath5 = \"../Resources/qualifying.csv\"\n",
    "\n",
    "maindf = pd.read_csv(filepath)\n",
    "results_df = pd.read_csv(filepath2)\n",
    "driver_df = pd.read_csv(filepath3)\n",
    "races_df = pd.read_csv(filepath4)\n",
    "quali_df = pd.read_csv(filepath5)"
   ]
  },
  {
   "cell_type": "markdown",
   "id": "6306269e",
   "metadata": {},
   "source": [
    "# Drivers experiense analysis"
   ]
  },
  {
   "cell_type": "code",
   "execution_count": 3,
   "id": "d5d4d3f0",
   "metadata": {},
   "outputs": [],
   "source": [
    "# Merge of race file and driver to get the year each driver has driven\n",
    "\n",
    "drivers_racesdf = pd.merge(driver_df,races_df)[[\"raceId\",\"driverId\",\"points\",\"position\",\"wins\",\"year\",\"circuitId\",\"date\"]]"
   ]
  },
  {
   "cell_type": "code",
   "execution_count": 4,
   "id": "734242d7",
   "metadata": {},
   "outputs": [],
   "source": [
    "# Data prep to plot, getting the count of years each driver has driven\n",
    "\n",
    "driver_exp_df = drivers_racesdf[[\"driverId\",\"year\"]].copy()\n",
    "driver_exp_df.drop_duplicates(keep='first', inplace=True, ignore_index=True)\n",
    "driveryrs = driver_exp_df.groupby([\"driverId\"])[\"year\"].count()\n",
    "driveryrs = pd.DataFrame({'driverId':driveryrs.index, '#years':driveryrs.values})\n",
    "driveryrs = driveryrs.set_index(\"driverId\")"
   ]
  },
  {
   "cell_type": "code",
   "execution_count": 5,
   "id": "02d33ced",
   "metadata": {},
   "outputs": [],
   "source": [
    "# Adding the count of years to main dataframe\n",
    "\n",
    "maindf['yrs_exp_driver'] = maindf[\"driverId\"].map(driveryrs[\"#years\"])"
   ]
  },
  {
   "cell_type": "code",
   "execution_count": 6,
   "id": "a9ddcf8c",
   "metadata": {},
   "outputs": [],
   "source": [
    "# Copiying the main dataframe to create the rank with just the drivers in the selected period of time\n",
    "\n",
    "driver_rank = maindf[[\"driverId\",\"yrs_exp_driver\"]].copy()\n",
    "driver_rank.drop_duplicates(keep='first', inplace=True, ignore_index=True)\n",
    "driver_rank[\"rank_yrs_exp_driver\"] = driver_rank[\"yrs_exp_driver\"].rank(method=\"min\",ascending=False)\n",
    "driver_rank = driver_rank.sort_values(by=\"rank_yrs_exp_driver\", ascending=True)\n",
    "driver_rank = driver_rank.set_index(\"driverId\")"
   ]
  },
  {
   "cell_type": "code",
   "execution_count": 7,
   "id": "08cbceab",
   "metadata": {},
   "outputs": [
    {
     "data": {
      "text/plain": [
       "False"
      ]
     },
     "execution_count": 7,
     "metadata": {},
     "output_type": "execute_result"
    }
   ],
   "source": [
    "# Removing count of years column and adding the rank per driver expertise to main dataframe\n",
    "\n",
    "maindf.drop(\"yrs_exp_driver\", axis=1, inplace=True)\n",
    "maindf['rank_yrs_exp_driver'] = maindf[\"driverId\"].map(driver_rank[\"rank_yrs_exp_driver\"])\n",
    "maindf['rank_yrs_exp_driver'].isnull().values.any()"
   ]
  },
  {
   "cell_type": "code",
   "execution_count": 8,
   "id": "d13f5bd2",
   "metadata": {},
   "outputs": [
    {
     "data": {
      "image/png": "[encoded data removed]",
      "text/plain": [
       "<Figure size 360x360 with 1 Axes>"
      ]
     },
     "metadata": {
      "needs_background": "light"
     },
     "output_type": "display_data"
    }
   ],
   "source": [
    "# Ploting relationship between years of experiense and end position of the race\n",
    "\n",
    "fig, ax = plt.subplots(1, 1, figsize=(5,5))\n",
    "ax.scatter(x=maindf.positionOrder, y=maindf.rank_yrs_exp_driver, alpha=.5)\n",
    "ax.set_xlabel('positionOrder')\n",
    "ax.set_ylabel('rank_yrs_exp_driver');"
   ]
  },
  {
   "cell_type": "markdown",
   "id": "9ce3b657",
   "metadata": {},
   "source": [
    "# Drivers wins analysis"
   ]
  },
  {
   "cell_type": "code",
   "execution_count": 9,
   "id": "b1bdff4a",
   "metadata": {},
   "outputs": [],
   "source": [
    "# Selecting the columns from original dataframe and filter it by wins\n",
    "\n",
    "driver_wins = results_df[[\"driverId\",\"positionOrder\"]].copy()\n",
    "driver_wins = driver_wins[driver_wins[\"positionOrder\"] == 1].copy()"
   ]
  },
  {
   "cell_type": "code",
   "execution_count": 10,
   "id": "57fbbb6f",
   "metadata": {},
   "outputs": [],
   "source": [
    "# Getting the sum of all wins per driver\n",
    "\n",
    "driver_win_count = driver_wins.groupby([\"driverId\"])[\"positionOrder\"].sum()\n",
    "driver_win_count = pd.DataFrame({'driverId':driver_win_count.index, 'wins':driver_win_count.values})\n",
    "driver_win_count = driver_win_count.set_index(\"driverId\")"
   ]
  },
  {
   "cell_type": "code",
   "execution_count": 11,
   "id": "30b5fe6b",
   "metadata": {},
   "outputs": [],
   "source": [
    "# Adding the # of wins per driver to the main dataframe\n",
    "\n",
    "maindf['driver_#wins'] = maindf[\"driverId\"].map(driver_win_count[\"wins\"])\n",
    "maindf['driver_#wins'].fillna(0, inplace=True)"
   ]
  },
  {
   "cell_type": "code",
   "execution_count": 12,
   "id": "99390682",
   "metadata": {},
   "outputs": [],
   "source": [
    "# Copiying the main dataframe to create the rank with just the drivers in the selected period of time\n",
    "\n",
    "driver_win_rank = maindf[[\"driverId\",'driver_#wins']].copy()\n",
    "driver_win_rank.drop_duplicates(keep='first', inplace=True, ignore_index=True)\n",
    "driver_win_rank[\"rank_wins_driver\"] = driver_win_rank[\"driver_#wins\"].rank(method=\"min\",ascending=False)\n",
    "driver_win_rank = driver_win_rank.sort_values(by=\"rank_wins_driver\", ascending=True)\n",
    "driver_win_rank = driver_win_rank.set_index(\"driverId\")"
   ]
  },
  {
   "cell_type": "code",
   "execution_count": 13,
   "id": "73ec956b",
   "metadata": {},
   "outputs": [
    {
     "data": {
      "text/plain": [
       "False"
      ]
     },
     "execution_count": 13,
     "metadata": {},
     "output_type": "execute_result"
    }
   ],
   "source": [
    "# Removing # of wins column and adding the rank per driver wins to main dataframe\n",
    "\n",
    "maindf.drop(\"driver_#wins\", axis=1, inplace=True)\n",
    "maindf['rank_wins_driver'] = maindf[\"driverId\"].map(driver_win_rank[\"rank_wins_driver\"])\n",
    "maindf['rank_wins_driver'].isnull().values.any()"
   ]
  },
  {
   "cell_type": "code",
   "execution_count": 14,
   "id": "1db4b253",
   "metadata": {},
   "outputs": [
    {
     "data": {
      "image/png": "[encoded data removed]",
      "text/plain": [
       "<Figure size 360x360 with 1 Axes>"
      ]
     },
     "metadata": {
      "needs_background": "light"
     },
     "output_type": "display_data"
    }
   ],
   "source": [
    "# Ploting relationship between total wins and end position of the race\n",
    "\n",
    "fig, ax = plt.subplots(1, 1, figsize=(5,5))\n",
    "ax.scatter(x=maindf.positionOrder, y=maindf.rank_wins_driver, alpha=.5)\n",
    "ax.set_xlabel('positionOrder')\n",
    "ax.set_ylabel('rank_wins_driver');"
   ]
  },
  {
   "cell_type": "markdown",
   "id": "da7f20ea",
   "metadata": {},
   "source": [
    "# Drivers Quali pole wins analysis"
   ]
  },
  {
   "cell_type": "code",
   "execution_count": 15,
   "id": "800bbb49",
   "metadata": {},
   "outputs": [],
   "source": [
    "# Selecting the columns from original dataframe and filter it by wins in qualifying (Q3 win a 1 position = pole)\n",
    "\n",
    "driver_quali_wins = quali_df[[\"driverId\",\"position\"]].copy()\n",
    "driver_quali_wins = driver_quali_wins[driver_quali_wins[\"position\"] == 1].copy()"
   ]
  },
  {
   "cell_type": "code",
   "execution_count": 16,
   "id": "fbdd0900",
   "metadata": {},
   "outputs": [],
   "source": [
    "# Getting the sum of all wins in quali per driver\n",
    "\n",
    "driver_quali_win_count = driver_quali_wins.groupby([\"driverId\"])[\"position\"].sum()\n",
    "driver_quali_win_count = pd.DataFrame({'driverId':driver_quali_win_count.index, 'Q3 wins':driver_quali_win_count.values})\n",
    "driver_quali_win_count = driver_quali_win_count.set_index(\"driverId\")"
   ]
  },
  {
   "cell_type": "code",
   "execution_count": 17,
   "id": "14d3d801",
   "metadata": {},
   "outputs": [],
   "source": [
    "# Adding the # of wins of quali per driver to the main dataframe\n",
    "\n",
    "maindf['driver_Q3#wins'] = maindf[\"driverId\"].map(driver_quali_win_count[\"Q3 wins\"])\n",
    "maindf['driver_Q3#wins'].fillna(0, inplace=True)"
   ]
  },
  {
   "cell_type": "code",
   "execution_count": 18,
   "id": "421e9e69",
   "metadata": {},
   "outputs": [],
   "source": [
    "# Copiying the main dataframe to create the rank with just the drivers in the selected period of time\n",
    "\n",
    "driver_quali_win_rank = maindf[[\"driverId\",'driver_Q3#wins']].copy()\n",
    "driver_quali_win_rank.drop_duplicates(keep='first', inplace=True, ignore_index=True)\n",
    "driver_quali_win_rank[\"rank_quali_wins_driver\"] = driver_quali_win_rank[\"driver_Q3#wins\"].rank(method=\"min\",ascending=False)\n",
    "driver_quali_win_rank = driver_quali_win_rank.sort_values(by=\"rank_quali_wins_driver\", ascending=True)\n",
    "driver_quali_win_rank = driver_quali_win_rank.set_index(\"driverId\")"
   ]
  },
  {
   "cell_type": "code",
   "execution_count": 19,
   "id": "8ed8a385",
   "metadata": {},
   "outputs": [
    {
     "data": {
      "text/plain": [
       "False"
      ]
     },
     "execution_count": 19,
     "metadata": {},
     "output_type": "execute_result"
    }
   ],
   "source": [
    "# Removing # of Q3 wins column and adding the rank per driver wins in quali to main dataframe\n",
    "\n",
    "maindf.drop(\"driver_Q3#wins\", axis=1, inplace=True)\n",
    "maindf['rank_quali_wins_driver'] = maindf[\"driverId\"].map(driver_quali_win_rank[\"rank_quali_wins_driver\"])\n",
    "maindf['rank_quali_wins_driver'].isnull().values.any()"
   ]
  },
  {
   "cell_type": "code",
   "execution_count": 20,
   "id": "6b54c5ce",
   "metadata": {},
   "outputs": [
    {
     "data": {
      "image/png": "[encoded data removed]",
      "text/plain": [
       "<Figure size 360x360 with 1 Axes>"
      ]
     },
     "metadata": {
      "needs_background": "light"
     },
     "output_type": "display_data"
    }
   ],
   "source": [
    "# Ploting relationship between total wins in quali and end position of the race\n",
    "\n",
    "fig, ax = plt.subplots(1, 1, figsize=(5,5))\n",
    "ax.scatter(x=maindf.positionOrder, y=maindf.rank_quali_wins_driver, alpha=.5)\n",
    "ax.set_xlabel('positionOrder')\n",
    "ax.set_ylabel('rank_quali_wins_driver');"
   ]
  },
  {
   "cell_type": "code",
   "execution_count": 21,
   "id": "0b3ef040",
   "metadata": {},
   "outputs": [],
   "source": [
    "# Export the maindf to a Formula1 csv with all the rankings created.\n",
    "\n",
    "maindf.to_csv(\"../Resources/Formula1_maindata.csv\", index=False)"
   ]
  }
 ],
 "metadata": {
  "kernelspec": {
   "display_name": "mlenv",
   "language": "python",
   "name": "mlenv"
  },
  "language_info": {
   "codemirror_mode": {
    "name": "ipython",
    "version": 3
   },
   "file_extension": ".py",
   "mimetype": "text/x-python",
   "name": "python",
   "nbconvert_exporter": "python",
   "pygments_lexer": "ipython3",
   "version": "3.7.11"
  }
 },
 "nbformat": 4,
 "nbformat_minor": 5
}
