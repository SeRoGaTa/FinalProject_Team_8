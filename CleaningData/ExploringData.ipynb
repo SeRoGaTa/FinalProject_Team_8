{
 "cells": [
  {
   "cell_type": "code",

   "id": "5fc1e7c8",
   "metadata": {},
   "outputs": [],
   "source": [
    "# Tratamiento de datos\n",
    "# ==============================================================================\n",
    "import pandas as pd\n",
    "import numpy as np\n",
    "\n",
    "# Gráficos\n",
    "# ==============================================================================\n",
    "import matplotlib.pyplot as plt\n",
    "from matplotlib import style\n",
    "import seaborn as sns\n"
   ]
  },
  {
   "cell_type": "code",

   "id": "1552459f",
   "metadata": {},
   "outputs": [
    {
     "name": "stdout",
     "output_type": "stream",
     "text": [
      "<class 'pandas.core.frame.DataFrame'>\n",
      "RangeIndex: 1619 entries, 0 to 1618\n",
      "Data columns (total 25 columns):\n",

      "memory usage: 316.3+ KB\n"
     ]
    }
   ],
   "source": [
    "url = ('formula1.csv')\n",
    "datos = pd.read_csv(url)\n",
    "\n",
    "# Transformaciones a algunas columnas.\n",
    "datos['positionOrder'] = datos['positionOrder'].astype('int64')\n",
    "datos['grid'] = datos['grid'].astype('int64')\n",
    "datos['rankfast'] = datos['rankfast'].astype('int64')\n",

    "\n",
    "datos.info()"
   ]
  },
  {
   "cell_type": "code",

   "id": "9026c60e",
   "metadata": {
    "scrolled": true
   },
   "outputs": [
    {
     "name": "stdout",
     "output_type": "stream",
     "text": [
      "<class 'pandas.core.frame.DataFrame'>\n",
      "RangeIndex: 25399 entries, 0 to 25398\n",

      " #   Column           Non-Null Count  Dtype  \n",
      "---  ------           --------------  -----  \n",
      " 0   resultId         25399 non-null  int64  \n",
      " 1   raceId           25399 non-null  int64  \n",
      " 2   driverId         25399 non-null  int64  \n",
      " 3   constructorId    25399 non-null  int64  \n",
      " 4   number           25399 non-null  object \n",
      " 5   grid             25399 non-null  int64  \n",
      " 6   position         25399 non-null  object \n",
      " 7   positionText     25399 non-null  object \n",
      " 8   positionOrder    25399 non-null  int64  \n",
      " 9   points           25399 non-null  float64\n",
      " 10  laps             25399 non-null  int64  \n",
      " 11  time             25399 non-null  object \n",
      " 12  milliseconds     25399 non-null  object \n",
      " 13  fastestLap       25399 non-null  object \n",
      " 14  rank             25399 non-null  object \n",
      " 15  fastestLapTime   25399 non-null  object \n",
      " 16  fastestLapSpeed  25399 non-null  object \n",
      " 17  statusId         25399 non-null  int64  \n",

     ]
    }
   ],
   "source": [
    "url_results = ('results.csv')\n",
    "datos_total = pd.read_csv(url_results)\n",
    "\n",
    "datos_total.info()"
   ]
  },
  {

   "metadata": {},
   "outputs": [
    {
     "data": {

  },
  {

