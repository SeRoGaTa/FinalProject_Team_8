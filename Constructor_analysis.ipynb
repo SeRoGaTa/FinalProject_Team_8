{
 "cells": [
  {
   "cell_type": "code",
   "execution_count": 2,
   "id": "f25e4805",
   "metadata": {},
   "outputs": [],
   "source": [
    "#Import libraries\n",
    "import pandas as pd\n",
    "from pathlib import Path\n",
    "import matplotlib.pyplot as plt\n",
    "from sklearn.linear_model import LinearRegression\n",
    "from statistics import mode\n",
    "import numpy as np\n"
   ]
  },
  {
   "cell_type": "code",
   "execution_count": 3,
   "id": "e4d7ebb6",
   "metadata": {},
   "outputs": [
    {
     "data": {
      "text/html": [
       "<div>\n",
       "<style scoped>\n",
       "    .dataframe tbody tr th:only-of-type {\n",
       "        vertical-align: middle;\n",
       "    }\n",
       "\n",
       "    .dataframe tbody tr th {\n",
       "        vertical-align: top;\n",
       "    }\n",
       "\n",
       "    .dataframe thead th {\n",
       "        text-align: right;\n",
       "    }\n",
       "</style>\n",
       "<table border=\"1\" class=\"dataframe\">\n",
       "  <thead>\n",
       "    <tr style=\"text-align: right;\">\n",
       "      <th></th>\n",
       "      <th>resultId</th>\n",
       "      <th>raceId</th>\n",
       "      <th>driverId</th>\n",
       "      <th>constructorId</th>\n",
       "      <th>number</th>\n",
       "      <th>grid</th>\n",
       "      <th>position</th>\n",
       "      <th>positionText</th>\n",
       "      <th>positionOrder</th>\n",
       "      <th>points</th>\n",
       "      <th>...</th>\n",
       "      <th>fastestLapTime</th>\n",
       "      <th>fastestLapSpeed</th>\n",
       "      <th>statusId</th>\n",
       "      <th>status</th>\n",
       "      <th>driverRef</th>\n",
       "      <th>constructorRef</th>\n",
       "      <th>circuitId</th>\n",
       "      <th>name</th>\n",
       "      <th>year</th>\n",
       "      <th>circuitRef</th>\n",
       "    </tr>\n",
       "  </thead>\n",
       "  <tbody>\n",
       "    <tr>\n",
       "      <th>0</th>\n",
       "      <td>23783</td>\n",
       "      <td>989</td>\n",
       "      <td>1</td>\n",
       "      <td>131</td>\n",
       "      <td>44</td>\n",
       "      <td>1</td>\n",
       "      <td>2</td>\n",
       "      <td>2</td>\n",
       "      <td>2</td>\n",
       "      <td>18.0</td>\n",
       "      <td>...</td>\n",
       "      <td>01:26.4</td>\n",
       "      <td>220.845</td>\n",
       "      <td>1</td>\n",
       "      <td>Finished</td>\n",
       "      <td>hamilton</td>\n",
       "      <td>mercedes</td>\n",
       "      <td>1</td>\n",
       "      <td>Australian Grand Prix</td>\n",
       "      <td>2018</td>\n",
       "      <td>albert_park</td>\n",
       "    </tr>\n",
       "    <tr>\n",
       "      <th>1</th>\n",
       "      <td>23784</td>\n",
       "      <td>989</td>\n",
       "      <td>8</td>\n",
       "      <td>6</td>\n",
       "      <td>7</td>\n",
       "      <td>2</td>\n",
       "      <td>3</td>\n",
       "      <td>3</td>\n",
       "      <td>3</td>\n",
       "      <td>15.0</td>\n",
       "      <td>...</td>\n",
       "      <td>01:26.4</td>\n",
       "      <td>221.027</td>\n",
       "      <td>1</td>\n",
       "      <td>Finished</td>\n",
       "      <td>raikkonen</td>\n",
       "      <td>ferrari</td>\n",
       "      <td>1</td>\n",
       "      <td>Australian Grand Prix</td>\n",
       "      <td>2018</td>\n",
       "      <td>albert_park</td>\n",
       "    </tr>\n",
       "    <tr>\n",
       "      <th>2</th>\n",
       "      <td>23782</td>\n",
       "      <td>989</td>\n",
       "      <td>20</td>\n",
       "      <td>6</td>\n",
       "      <td>5</td>\n",
       "      <td>3</td>\n",
       "      <td>1</td>\n",
       "      <td>1</td>\n",
       "      <td>1</td>\n",
       "      <td>25.0</td>\n",
       "      <td>...</td>\n",
       "      <td>01:26.5</td>\n",
       "      <td>220.782</td>\n",
       "      <td>1</td>\n",
       "      <td>Finished</td>\n",
       "      <td>vettel</td>\n",
       "      <td>ferrari</td>\n",
       "      <td>1</td>\n",
       "      <td>Australian Grand Prix</td>\n",
       "      <td>2018</td>\n",
       "      <td>albert_park</td>\n",
       "    </tr>\n",
       "    <tr>\n",
       "      <th>3</th>\n",
       "      <td>23787</td>\n",
       "      <td>989</td>\n",
       "      <td>830</td>\n",
       "      <td>9</td>\n",
       "      <td>33</td>\n",
       "      <td>4</td>\n",
       "      <td>6</td>\n",
       "      <td>6</td>\n",
       "      <td>6</td>\n",
       "      <td>8.0</td>\n",
       "      <td>...</td>\n",
       "      <td>01:26.9</td>\n",
       "      <td>219.737</td>\n",
       "      <td>1</td>\n",
       "      <td>Finished</td>\n",
       "      <td>max_verstappen</td>\n",
       "      <td>red_bull</td>\n",
       "      <td>1</td>\n",
       "      <td>Australian Grand Prix</td>\n",
       "      <td>2018</td>\n",
       "      <td>albert_park</td>\n",
       "    </tr>\n",
       "    <tr>\n",
       "      <th>4</th>\n",
       "      <td>23798</td>\n",
       "      <td>989</td>\n",
       "      <td>825</td>\n",
       "      <td>210</td>\n",
       "      <td>20</td>\n",
       "      <td>5</td>\n",
       "      <td>\\N</td>\n",
       "      <td>R</td>\n",
       "      <td>17</td>\n",
       "      <td>0.0</td>\n",
       "      <td>...</td>\n",
       "      <td>01:29.5</td>\n",
       "      <td>213.224</td>\n",
       "      <td>36</td>\n",
       "      <td>Wheel</td>\n",
       "      <td>kevin_magnussen</td>\n",
       "      <td>haas</td>\n",
       "      <td>1</td>\n",
       "      <td>Australian Grand Prix</td>\n",
       "      <td>2018</td>\n",
       "      <td>albert_park</td>\n",
       "    </tr>\n",
       "  </tbody>\n",
       "</table>\n",
       "<p>5 rows × 25 columns</p>\n",
       "</div>"
      ],
      "text/plain": [
       "   resultId  raceId  driverId  constructorId  number  grid position  \\\n",
       "0     23783     989         1            131      44     1        2   \n",
       "1     23784     989         8              6       7     2        3   \n",
       "2     23782     989        20              6       5     3        1   \n",
       "3     23787     989       830              9      33     4        6   \n",
       "4     23798     989       825            210      20     5       \\N   \n",
       "\n",
       "  positionText  positionOrder  points  ...  fastestLapTime fastestLapSpeed  \\\n",
       "0            2              2    18.0  ...         01:26.4         220.845   \n",
       "1            3              3    15.0  ...         01:26.4         221.027   \n",
       "2            1              1    25.0  ...         01:26.5         220.782   \n",
       "3            6              6     8.0  ...         01:26.9         219.737   \n",
       "4            R             17     0.0  ...         01:29.5         213.224   \n",
       "\n",
       "  statusId    status        driverRef constructorRef circuitId  \\\n",
       "0        1  Finished         hamilton       mercedes         1   \n",
       "1        1  Finished        raikkonen        ferrari         1   \n",
       "2        1  Finished           vettel        ferrari         1   \n",
       "3        1  Finished   max_verstappen       red_bull         1   \n",
       "4       36     Wheel  kevin_magnussen           haas         1   \n",
       "\n",
       "                    name  year   circuitRef  \n",
       "0  Australian Grand Prix  2018  albert_park  \n",
       "1  Australian Grand Prix  2018  albert_park  \n",
       "2  Australian Grand Prix  2018  albert_park  \n",
       "3  Australian Grand Prix  2018  albert_park  \n",
       "4  Australian Grand Prix  2018  albert_park  \n",
       "\n",
       "[5 rows x 25 columns]"
      ]
     },
     "execution_count": 3,
     "metadata": {},
     "output_type": "execute_result"
    }
   ],
   "source": [
    "#Read csv file\n",
    "df = pd.read_csv(Path('CleaningData/formula1.csv'))\n",
    "df.head()"
   ]
  },
  {
   "cell_type": "code",
   "execution_count": 4,
   "id": "5b4f21ee",
   "metadata": {},
   "outputs": [],
   "source": [
    "cons_win = df.groupby([\"constructorId\", \"positionOrder\"]).points.agg(['sum']).reset_index()\n",
    " "
   ]
  },
  {
   "cell_type": "code",
   "execution_count": 5,
   "id": "d597503f",
   "metadata": {},
   "outputs": [
    {
     "data": {
      "text/html": [
       "<div>\n",
       "<style scoped>\n",
       "    .dataframe tbody tr th:only-of-type {\n",
       "        vertical-align: middle;\n",
       "    }\n",
       "\n",
       "    .dataframe tbody tr th {\n",
       "        vertical-align: top;\n",
       "    }\n",
       "\n",
       "    .dataframe thead th {\n",
       "        text-align: right;\n",
       "    }\n",
       "</style>\n",
       "<table border=\"1\" class=\"dataframe\">\n",
       "  <thead>\n",
       "    <tr style=\"text-align: right;\">\n",
       "      <th></th>\n",
       "      <th>constructorId</th>\n",
       "      <th>positionOrder</th>\n",
       "      <th>sum</th>\n",
       "    </tr>\n",
       "  </thead>\n",
       "  <tbody>\n",
       "    <tr>\n",
       "      <th>0</th>\n",
       "      <td>1</td>\n",
       "      <td>1</td>\n",
       "      <td>27.0</td>\n",
       "    </tr>\n",
       "    <tr>\n",
       "      <th>1</th>\n",
       "      <td>1</td>\n",
       "      <td>2</td>\n",
       "      <td>36.0</td>\n",
       "    </tr>\n",
       "    <tr>\n",
       "      <th>2</th>\n",
       "      <td>1</td>\n",
       "      <td>3</td>\n",
       "      <td>76.0</td>\n",
       "    </tr>\n",
       "    <tr>\n",
       "      <th>3</th>\n",
       "      <td>1</td>\n",
       "      <td>4</td>\n",
       "      <td>78.0</td>\n",
       "    </tr>\n",
       "    <tr>\n",
       "      <th>4</th>\n",
       "      <td>1</td>\n",
       "      <td>5</td>\n",
       "      <td>180.0</td>\n",
       "    </tr>\n",
       "    <tr>\n",
       "      <th>...</th>\n",
       "      <td>...</td>\n",
       "      <td>...</td>\n",
       "      <td>...</td>\n",
       "    </tr>\n",
       "    <tr>\n",
       "      <th>259</th>\n",
       "      <td>214</td>\n",
       "      <td>16</td>\n",
       "      <td>0.0</td>\n",
       "    </tr>\n",
       "    <tr>\n",
       "      <th>260</th>\n",
       "      <td>214</td>\n",
       "      <td>17</td>\n",
       "      <td>0.0</td>\n",
       "    </tr>\n",
       "    <tr>\n",
       "      <th>261</th>\n",
       "      <td>214</td>\n",
       "      <td>18</td>\n",
       "      <td>0.0</td>\n",
       "    </tr>\n",
       "    <tr>\n",
       "      <th>262</th>\n",
       "      <td>214</td>\n",
       "      <td>19</td>\n",
       "      <td>0.0</td>\n",
       "    </tr>\n",
       "    <tr>\n",
       "      <th>263</th>\n",
       "      <td>214</td>\n",
       "      <td>20</td>\n",
       "      <td>0.0</td>\n",
       "    </tr>\n",
       "  </tbody>\n",
       "</table>\n",
       "<p>264 rows × 3 columns</p>\n",
       "</div>"
      ],
      "text/plain": [
       "     constructorId  positionOrder    sum\n",
       "0                1              1   27.0\n",
       "1                1              2   36.0\n",
       "2                1              3   76.0\n",
       "3                1              4   78.0\n",
       "4                1              5  180.0\n",
       "..             ...            ...    ...\n",
       "259            214             16    0.0\n",
       "260            214             17    0.0\n",
       "261            214             18    0.0\n",
       "262            214             19    0.0\n",
       "263            214             20    0.0\n",
       "\n",
       "[264 rows x 3 columns]"
      ]
     },
     "execution_count": 5,
     "metadata": {},
     "output_type": "execute_result"
    }
   ],
   "source": [
    "cons_win"
   ]
  },
  {
   "cell_type": "code",
   "execution_count": 195,
   "id": "2904fde3",
   "metadata": {},
   "outputs": [],
   "source": [
    "df2= pd.DataFrame(cons_win)\n",
    "df2.to_csv('cons_win.csv')"
   ]
  },
  {
   "cell_type": "code",
   "execution_count": 190,
   "id": "f3349db5",
   "metadata": {},
   "outputs": [
    {
     "data": {
      "text/plain": [
       "Text(0, 0.5, 'constructorId')"
      ]
     },
     "execution_count": 190,
     "metadata": {},
     "output_type": "execute_result"
    },
    {
     "data": {
      "image/png": "[encoded data removed]",
      "text/plain": [
       "<Figure size 360x360 with 1 Axes>"
      ]
     },
     "metadata": {
      "needs_background": "light"
     },
     "output_type": "display_data"
    }
   ],
   "source": [
    "fig, ax = plt.subplots(1, 1, figsize=(5,5))\n",
    "ax.scatter(x=cons_win.positionOrder, y=cons_win.constructorId,alpha=.5)\n",
    "ax.set_xlabel('positionOrder')\n",
    "ax.set_ylabel('constructorId')"
   ]
  },
  {
   "cell_type": "code",
   "execution_count": 88,
   "id": "54bcdce9",
   "metadata": {},
   "outputs": [],
   "source": [
    "pints_agg = df.groupby('constructorId').points.agg(['sum']).reset_index()\n"
   ]
  },
  {
   "cell_type": "code",
   "execution_count": 80,
   "id": "fc4c9a35",
   "metadata": {},
   "outputs": [
    {
     "name": "stdout",
     "output_type": "stream",
     "text": [
      "    constructorId     sum\n",
      "0               1   684.0\n",
      "1               3    31.0\n",
      "2               4   394.0\n",
      "3               5   118.0\n",
      "4               6  1529.5\n",
      "5               9  1740.5\n",
      "6              10   111.0\n",
      "7              15    48.0\n",
      "8              51    78.0\n",
      "9             117    77.0\n",
      "10            131  2580.5\n",
      "11            210   124.0\n",
      "12            211   283.0\n",
      "13            213   249.0\n",
      "14            214   155.0\n"
     ]
    }
   ],
   "source": [
    "print(pints_agg)"
   ]
  },
  {
   "cell_type": "code",
   "execution_count": 72,
   "id": "b7b2a95f",
   "metadata": {},
   "outputs": [],
   "source": [
    "position_agg = df.groupby(['constructorId','positionOrder']).positionOrder.agg(['count']).reset_index().rename(columns = {'count':'totalpo'})\n"
   ]
  },
  {
   "cell_type": "code",
   "execution_count": 73,
   "id": "4bbb2ca7",
   "metadata": {},
   "outputs": [
    {
     "name": "stdout",
     "output_type": "stream",
     "text": [
      "     constructorId  positionOrder  totalpo\n",
      "0                1              1        1\n",
      "1                1              2        2\n",
      "2                1              3        5\n",
      "3                1              4        7\n",
      "4                1              5       18\n",
      "..             ...            ...      ...\n",
      "259            214             16        1\n",
      "260            214             17        1\n",
      "261            214             18        1\n",
      "262            214             19        2\n",
      "263            214             20        2\n",
      "\n",
      "[264 rows x 3 columns]\n"
     ]
    }
   ],
   "source": [
    "print(position_agg)"
   ]
  },
  {
   "cell_type": "code",
   "execution_count": 182,
   "id": "e4f68618",
   "metadata": {},
   "outputs": [
    {
     "data": {
      "text/plain": [
       "Text(0, 0.5, 'constructorId')"
      ]
     },
     "execution_count": 182,
     "metadata": {},
     "output_type": "execute_result"
    },
    {
     "data": {
      "image/png": "[encoded data removed]",
      "text/plain": [
       "<Figure size 360x360 with 1 Axes>"
      ]
     },
     "metadata": {
      "needs_background": "light"
     },
     "output_type": "display_data"
    }
   ],
   "source": [
    "fig, ax = plt.subplots(1, 1, figsize=(5,5))\n",
    "ax.scatter(x=position_agg.positionOrder, y=position_agg.constructorId, c=position_agg.totalpo,alpha=.5)\n",
    "ax.set_xlabel('positionOrder')\n",
    "ax.set_ylabel('constructorId')\n",
    "\n"
   ]
  },
  {
   "cell_type": "code",
   "execution_count": null,
   "id": "5b962fa1",
   "metadata": {},
   "outputs": [],
   "source": [
    "df2= pd.DataFrame(position_agg)\n",
    "df2.to_csv('position_agg.csv')"
   ]
  },
  {
   "cell_type": "markdown",
   "id": "bcf873c2",
   "metadata": {},
   "source": [
    "### Constructor points per circuit"
   ]
  },
  {
   "cell_type": "code",
   "execution_count": 14,
   "id": "8333f791",
   "metadata": {},
   "outputs": [],
   "source": [
    "positions_agg = df.groupby(['constructorId','positionOrder','circuitId']).points.agg(['sum']).reset_index().sort_values('circuitId').rename(columns = {'sum':'sumpoints'})\n"
   ]
  },
  {
   "cell_type": "code",
   "execution_count": 15,
   "id": "f8def73c",
   "metadata": {},
   "outputs": [
    {
     "name": "stdout",
     "output_type": "stream",
     "text": [
      "      constructorId  positionOrder  circuitId  sumpoints\n",
      "435               5             18          1        0.0\n",
      "612               9              3          1       15.0\n",
      "425               5             15          1        0.0\n",
      "1161            210             18          1        0.0\n",
      "449               6              1          1       25.0\n",
      "...             ...            ...        ...        ...\n",
      "611               9              2         78       19.0\n",
      "231               3             17         78        0.0\n",
      "68                1              9         78        2.0\n",
      "1063            131             20         78        0.0\n",
      "919             117             10         78        1.0\n",
      "\n",
      "[1389 rows x 4 columns]\n"
     ]
    }
   ],
   "source": [
    "print(positions_agg)"
   ]
  },
  {
   "cell_type": "code",
   "execution_count": 29,
   "id": "86f623e4",
   "metadata": {},
   "outputs": [],
   "source": [
    "df2= pd.DataFrame(positions_agg)\n",
    "df2.to_csv('positioncircuit_agg.csv')"
   ]
  },
  {
   "cell_type": "code",
   "execution_count": 16,
   "id": "ca529dac",
   "metadata": {},
   "outputs": [
    {
     "data": {
      "text/plain": [
       "Text(0, 0.5, 'sumpoints')"
      ]
     },
     "execution_count": 16,
     "metadata": {},
     "output_type": "execute_result"
    },
    {
     "data": {
      "image/png": "[encoded data removed]",
      "text/plain": [
       "<Figure size 720x720 with 1 Axes>"
      ]
     },
     "metadata": {
      "needs_background": "light"
     },
     "output_type": "display_data"
    }
   ],
   "source": [
    "fig, ax = plt.subplots(1, 1, figsize=(10,10))\n",
    "ax.scatter(x=positions_agg.positionOrder, y=positions_agg.sumpoints, alpha=.5)\n",
    "ax.set_xlabel('positionOrder')\n",
    "ax.set_ylabel('sumpoints')"
   ]
  },
  {
   "cell_type": "markdown",
   "id": "63325fae",
   "metadata": {},
   "source": [
    "### Constructor points per season"
   ]
  },
  {
   "cell_type": "code",
   "execution_count": 28,
   "id": "5c7c1aa5",
   "metadata": {},
   "outputs": [],
   "source": [
    "position_season_agg = df.groupby(['constructorId','positionOrder','year']).points.agg(['sum']).reset_index().sort_values('year').rename(columns = {'sum':'sumpoints'})\n"
   ]
  },
  {
   "cell_type": "code",
   "execution_count": 23,
   "id": "05aeb05d",
   "metadata": {},
   "outputs": [
    {
     "name": "stdout",
     "output_type": "stream",
     "text": [
      "     constructorId  positionOrder  year  sumpoints\n",
      "218              6             17  2018        0.0\n",
      "298             10             16  2018        0.0\n",
      "297             10             15  2018        0.0\n",
      "119              4              8  2018       20.0\n",
      "296             10             14  2018        0.0\n",
      "..             ...            ...   ...        ...\n",
      "355            117              5  2021       15.0\n",
      "356            117              6  2021        8.0\n",
      "357            117              7  2021       12.0\n",
      "435            210             12  2021        0.0\n",
      "542            214             20  2021        0.0\n",
      "\n",
      "[543 rows x 4 columns]\n"
     ]
    }
   ],
   "source": [
    "print(position_season_agg)"
   ]
  },
  {
   "cell_type": "code",
   "execution_count": 24,
   "id": "66a3747b",
   "metadata": {},
   "outputs": [
    {
     "data": {
      "text/plain": [
       "Text(0, 0.5, 'sumpoints')"
      ]
     },
     "execution_count": 24,
     "metadata": {},
     "output_type": "execute_result"
    },
    {
     "data": {
      "image/png": "[encoded data removed]",
      "text/plain": [
       "<Figure size 720x720 with 1 Axes>"
      ]
     },
     "metadata": {
      "needs_background": "light"
     },
     "output_type": "display_data"
    }
   ],
   "source": [
    "fig, ax = plt.subplots(1, 1, figsize=(10,10))\n",
    "ax.scatter(x=position_season_agg.positionOrder, y=position_season_agg.sumpoints, alpha=.5)\n",
    "ax.set_xlabel('positionOrder')\n",
    "ax.set_ylabel('sumpoints')"
   ]
  },
  {
   "cell_type": "code",
   "execution_count": 27,
   "id": "34477051",
   "metadata": {},
   "outputs": [],
   "source": [
    "df2= pd.DataFrame(position_season_agg)\n",
    "df2.to_csv('position_season.csv')"
   ]
  }
 ],
 "metadata": {
  "kernelspec": {
   "display_name": "mlenv",
   "language": "python",
   "name": "mlenv"
  },
  "language_info": {
   "codemirror_mode": {
    "name": "ipython",
    "version": 3
   },
   "file_extension": ".py",
   "mimetype": "text/x-python",
   "name": "python",
   "nbconvert_exporter": "python",
   "pygments_lexer": "ipython3",
   "version": "3.7.11"
  }
 },
 "nbformat": 4,
 "nbformat_minor": 5
}
